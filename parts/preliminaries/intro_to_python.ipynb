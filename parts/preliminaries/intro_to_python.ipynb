{
 "cells": [
  {
   "cell_type": "raw",
   "id": "3e33e41c",
   "metadata": {
    "vscode": {
     "languageId": "raw"
    }
   },
   "source": [
    "---\n",
    "title: Introduction to Python\n",
    "format:\n",
    "  html:\n",
    "    number-sections: false\n",
    "---"
   ]
  },
  {
   "cell_type": "markdown",
   "id": "e063b217",
   "metadata": {},
   "source": [
    "In this session, we will introduce you to Jupyter Notebooks and guide you through some of the essential programming concepts that form the foundation of working with data. Whether you are completely new to programming or looking to strengthen your understanding, this chapter is designed to help you build confidence as you take your first steps into coding.\n",
    "\n",
    "This session is very python-specific, but (as you will find out in few lines) Jupyter Notebook is compatible with many programming languages and the programming concepts introduced here are fundamentals of every programming language. \n",
    "\n",
    "A Jupyter Notebook is an interactive environment where you can write and execute code in small, manageable pieces, known as cells. This allows you to see the results of your code immediately, making it an excellent tool for learning, experimenting, and exploring data. It combines text, code, and the results of that code all in one place, making it a popular choice for data scientists, researchers, and educators.\n",
    "\n",
    "In this session, we will be using Python, a programming language known for its simplicity and readability, which makes it ideal for beginners. We will cover core programming concepts, such as variables, functions, and loops, and you will learn how to apply these concepts to perform basic data exploration tasks.a"
   ]
  },
  {
   "cell_type": "markdown",
   "id": "c823bda6-c86c-4923-a561-ddce7e5f2173",
   "metadata": {},
   "source": [
    "# Getting familiar with Jupyter Notebook {.unnumbered}\n",
    "\n",
    "Jupyter Notebook is an open-source web application that allows you to create and share documents containing live code, equations, visualizations, and narrative text. It supports various programming languages, including Python, R, Julia, and more. However, it is most commonly used with Python.\n",
    "\n",
    "Jupyter Notebook provides an interactive computing environment where you can write and execute code in a series of cells. Each cell can contain code, markdown text, equations, or visualizations. You can run individual cells or the entire notebook to see the output of the code and the results of any computations.\n",
    "\n",
    "The name \"Jupyter\" is a combination of three programming languages: Julia, Python, and R, which were the first three languages supported by the Jupyter project. It was originally developed as part of the IPython project (hence the name \"Jupyter\"), but has since evolved into a language-agnostic tool that supports multiple programming languages.\n",
    "\n",
    "In the context of Python, Jupyter Notebook is a popular tool for data analysis, scientific computing, machine learning, education, and research. It allows users to write, test, and document Python code in an interactive and visually appealing manner, making it a valuable tool for both beginners and experienced programmers alike."
   ]
  },
  {
   "cell_type": "markdown",
   "id": "391820a0-543e-4a29-8bd6-c25de2e307b5",
   "metadata": {},
   "source": [
    "# Jupyter Notebook cells {.unnumbered}\n",
    "\n",
    "Jupyter notebook cells can be either code, markdown, or raw. For the simple purpose of programming and writing text, ignore the raw option. You can easily shift between code and markdown selecting the cell, pressing Esc, and then M for markdown or Y for code.\n",
    "\n",
    "Markdown is a language for formatting text, it allows you to quickly and easily create formatted documents using simple and intuitive syntax. This current cell and any other cell displaying text in this notebook, is written in markdown. You can learn the basics of markdown syntax in few minutes reading [here](https://www.markdownguide.org/) or simply looking at the content of the text cells in this notebook and see what happens when you select them and run them.\n",
    "\n",
    "You can tell if your cell selected cell is a code cell because you will see square brackets on its left ([ ]:).\n",
    "\n",
    "If you want to delete a cell, use Esc + DD (press Esc and then d twice)\n",
    "\n",
    "**WARNING**: If your code cell has *empty* squred brackets, it means it has not been run YET. "
   ]
  },
  {
   "cell_type": "markdown",
   "id": "102bc81f-e9a9-48d4-b872-d94d1e64d211",
   "metadata": {},
   "source": [
    "# Main programming concepts {.unnumbered}\n",
    "\n",
    "There are some programming concepts that are common to all programming languages and can be found in any program: \n",
    "\n",
    "- variables and data types;\n",
    "- sequences of objects;\n",
    "- functions;\n",
    "- loops;\n",
    "- conditional statements;\n",
    "- packages (also called libraries or modules)"
   ]
  },
  {
   "cell_type": "markdown",
   "id": "2bdd67be-3b18-4548-b552-d3a5445e6530",
   "metadata": {},
   "source": [
    "## Variables and data types {.unnumbered}"
   ]
  },
  {
   "cell_type": "markdown",
   "id": "76a56fc3-e57e-43bb-8b8d-8628ac31a7c2",
   "metadata": {},
   "source": [
    "In programming a variable is a container for a value. This value can either be a number, a string (a word), or any other type of programming object (we will talk about other possible objects later). Let's initialise (define for the first time) some variables:"
   ]
  },
  {
   "cell_type": "code",
   "execution_count": 1,
   "id": "c52f0a7f-68b1-4526-b31a-8447d4a8148c",
   "metadata": {},
   "outputs": [],
   "source": [
    "name = 'Stefano'\n",
    "favourite_planet = 'Saturn'\n",
    "birth_day = 6"
   ]
  },
  {
   "cell_type": "markdown",
   "id": "8d92b9b4-1e52-409d-82e0-b4ee5c61d16e",
   "metadata": {},
   "source": [
    "In the previous cell we stored the word *Stefano* into the variable ```name```, the word *Saturn* into the variable ```favourite_planet```, and the value 6 into the variable ```birth_day```. From now on, every time we need to use one of these values in our programming, we just need to digit its corresponding variable name.\n",
    "\n",
    "In Jupyter notebooks, if you want to check the value contained in a variable (so its content), you can simply run a cell with the variable name inside:"
   ]
  },
  {
   "cell_type": "code",
   "execution_count": 2,
   "id": "8aa28bdf-85de-4030-b9fc-4c82e1d493dc",
   "metadata": {},
   "outputs": [
    {
     "data": {
      "text/plain": [
       "'Stefano'"
      ]
     },
     "execution_count": 2,
     "metadata": {},
     "output_type": "execute_result"
    }
   ],
   "source": [
    "name"
   ]
  },
  {
   "cell_type": "code",
   "execution_count": 3,
   "id": "68e0d259-18bc-4246-8917-a8bad68c9485",
   "metadata": {},
   "outputs": [
    {
     "data": {
      "text/plain": [
       "6"
      ]
     },
     "execution_count": 3,
     "metadata": {},
     "output_type": "execute_result"
    }
   ],
   "source": [
    "birth_day"
   ]
  },
  {
   "cell_type": "code",
   "execution_count": 4,
   "id": "f27c9358-4a7b-4dbd-aa10-33aba17475a7",
   "metadata": {},
   "outputs": [
    {
     "data": {
      "text/plain": [
       "6"
      ]
     },
     "execution_count": 4,
     "metadata": {},
     "output_type": "execute_result"
    }
   ],
   "source": [
    "name\n",
    "birth_day"
   ]
  },
  {
   "cell_type": "markdown",
   "id": "7d04c6bc-f058-4bb4-83bb-e4ef45ac3bdf",
   "metadata": {},
   "source": [
    "As you can notice, when you write different variable names in the same cell, only the last one will be printed on the screen."
   ]
  },
  {
   "cell_type": "markdown",
   "id": "d5a2cd62-427e-4e0a-93d3-8dc582ebd66c",
   "metadata": {},
   "source": [
    "## Sequences of objects {.unnumbered}"
   ]
  },
  {
   "cell_type": "markdown",
   "id": "bfbbe843-2b6b-4b52-a63e-9c59d6f0f30e",
   "metadata": {},
   "source": [
    "We can store single numbers and words inside a variable, but how about we want to store a *sequence* of values or words, or a mix of the two, into a variable? Of course we can, we just need to use a python object called **list**:"
   ]
  },
  {
   "cell_type": "code",
   "execution_count": 5,
   "id": "ceb54b6c-82b4-4c00-93e5-f0918c12f069",
   "metadata": {},
   "outputs": [],
   "source": [
    "names = ['Stefano','Pippo','Alfio','Tano']\n",
    "ages = [20,34,94,'unknown']"
   ]
  },
  {
   "cell_type": "code",
   "execution_count": 6,
   "id": "62ede068-e368-425b-b275-52f80f03d39f",
   "metadata": {},
   "outputs": [
    {
     "data": {
      "text/plain": [
       "'Stefano'"
      ]
     },
     "execution_count": 6,
     "metadata": {},
     "output_type": "execute_result"
    }
   ],
   "source": [
    "names[0]"
   ]
  },
  {
   "cell_type": "code",
   "execution_count": 7,
   "id": "97e27856-80c6-4674-879e-dedeb7d0ee07",
   "metadata": {},
   "outputs": [
    {
     "data": {
      "text/plain": [
       "'unknown'"
      ]
     },
     "execution_count": 7,
     "metadata": {},
     "output_type": "execute_result"
    }
   ],
   "source": [
    "ages[3]"
   ]
  },
  {
   "cell_type": "markdown",
   "id": "84f4f73e-f57f-4b05-894e-19dc5bdcbef2",
   "metadata": {},
   "source": [
    "In Python lists are defined listing our sequence of values separated by coma inside square brackets (variable_name = [... , ... , ...]). Values stored in a list can be accessed using **indexing**. In python you count items starting from 0, so that the first item in a list has index 0. This means that for accessing the first item in the list ```names``` we will digit ```name[0]```, and to access the last item in the list ```ages``` we will digit ```ages[3]``` "
   ]
  },
  {
   "cell_type": "markdown",
   "id": "139fcbfe-fc93-44ab-b702-b53dd1db04b8",
   "metadata": {},
   "source": [
    "You can create lists of *any* object, even lists of lists:"
   ]
  },
  {
   "cell_type": "code",
   "execution_count": 8,
   "id": "bd8e08c3-0a5f-4739-8a8f-755b734d58ca",
   "metadata": {},
   "outputs": [
    {
     "data": {
      "text/plain": [
       "['Stefano', 'Pippo', 'Alfio', 'Tano']"
      ]
     },
     "execution_count": 8,
     "metadata": {},
     "output_type": "execute_result"
    }
   ],
   "source": [
    "info = [names,ages]\n",
    "info[0]"
   ]
  },
  {
   "cell_type": "code",
   "execution_count": 9,
   "id": "61c99e24-2592-4666-a09f-a1c5b919c772",
   "metadata": {},
   "outputs": [
    {
     "data": {
      "text/plain": [
       "'Stefano'"
      ]
     },
     "execution_count": 9,
     "metadata": {},
     "output_type": "execute_result"
    }
   ],
   "source": [
    "info[0][0]"
   ]
  },
  {
   "cell_type": "markdown",
   "id": "5f12e9d8-ba6c-4416-8c6f-f4e7435dc825",
   "metadata": {},
   "source": [
    "If we want to change a particular value in a list, we first need to access it and then we need to use the operator = to specify the new list value. For example, if we want to change 'Stefano' into 'Steve', we would do:"
   ]
  },
  {
   "cell_type": "code",
   "execution_count": 10,
   "id": "9ecbe6e4-c66c-4cad-92ac-f687998d7e8d",
   "metadata": {},
   "outputs": [
    {
     "data": {
      "text/plain": [
       "['Steve', 'Pippo', 'Alfio', 'Tano']"
      ]
     },
     "execution_count": 10,
     "metadata": {},
     "output_type": "execute_result"
    }
   ],
   "source": [
    "info[0][0] = 'Steve'\n",
    "info[0]"
   ]
  },
  {
   "cell_type": "markdown",
   "id": "dbb84106-437d-49e5-824e-a3cb02790942",
   "metadata": {},
   "source": [
    "## Data types: Dictionaries {.unnumbered}"
   ]
  },
  {
   "cell_type": "markdown",
   "id": "447a7a93-a3b2-48d2-ab51-dae2703b5b2e",
   "metadata": {},
   "source": [
    "In python there are several ways you can store information. We just talked about lists, simple ordered sequences of objects. Another kind of data structure is called **dictionary**. In general a dictionary is a reference or resource that provides information, definitions, or explanations of words, terms, concepts, or objects. A dictionary is usually organised by alphabetically ordered words and by explanations associated to each word. In python a dictionary follows exactly the same organization principle: keyword and value."
   ]
  },
  {
   "cell_type": "code",
   "execution_count": 11,
   "id": "f8452607-b344-49de-9752-779aadbeae26",
   "metadata": {},
   "outputs": [],
   "source": [
    "info_dict = {'name':'Stefano','favourite_number':6}"
   ]
  },
  {
   "cell_type": "markdown",
   "id": "a5b84aaf-0786-4087-95c3-9291593da3fc",
   "metadata": {},
   "source": [
    "To define a dictionary we use curled brackets ({}) instead of squared brackets. Inside the curled brackets we need to specify couples of key/values separated by comas. To each key we can associate a different python object. Keys need to be unique, while values can by any Python object."
   ]
  },
  {
   "cell_type": "code",
   "execution_count": 12,
   "id": "5062f7a8-e9b4-4da8-ad48-19eccf65058d",
   "metadata": {},
   "outputs": [],
   "source": [
    "info_dict = {'names':names}"
   ]
  },
  {
   "cell_type": "code",
   "execution_count": 13,
   "id": "405d597e-63c8-426f-b76e-b9d767e15390",
   "metadata": {},
   "outputs": [
    {
     "data": {
      "text/plain": [
       "['Steve', 'Pippo', 'Alfio', 'Tano']"
      ]
     },
     "execution_count": 13,
     "metadata": {},
     "output_type": "execute_result"
    }
   ],
   "source": [
    "info_dict['names']"
   ]
  },
  {
   "cell_type": "markdown",
   "id": "f659abbe-395e-4381-8162-de6d5d38e275",
   "metadata": {},
   "source": [
    "To access the values contained inside a dictionary you cannot use numerical indices, as you would do for lists. Instead, you must use the name of the key related to the value. In the previous case the object names (a Python list) is associated with the key 'names'. So, in order to access it, we need to digit ```info_dict['names']```."
   ]
  },
  {
   "cell_type": "markdown",
   "id": "f1b76e92-e2e0-4c86-8c30-86c305197cc4",
   "metadata": {},
   "source": [
    "In a similar way, if you want to change the value related to a key, or create a new key/value couple, you first need to access that value and then to use the '=' sign to assign a new value"
   ]
  },
  {
   "cell_type": "code",
   "execution_count": 14,
   "id": "67537359-528a-4d90-ae6c-0eba788a42bb",
   "metadata": {},
   "outputs": [
    {
     "data": {
      "text/plain": [
       "['Steve', 'Josef', 'Alfonse', 'Gerrit']"
      ]
     },
     "execution_count": 14,
     "metadata": {},
     "output_type": "execute_result"
    }
   ],
   "source": [
    "info_dict['names'] = ['Steve','Josef','Alfonse','Gerrit']\n",
    "info_dict['names']"
   ]
  },
  {
   "cell_type": "markdown",
   "id": "3b19cd7d-1698-402d-9f99-dd5ac22d58c2",
   "metadata": {},
   "source": [
    "## Functions {.unnumbered}"
   ]
  },
  {
   "cell_type": "markdown",
   "id": "b6ddc15d-0c87-4ba4-b7c8-d3c2d27addb7",
   "metadata": {},
   "source": [
    "A function is a python object that performs a single action given some parameters. In python, function names are usually verbs. If variable can be thought as subjects and objects in a sentence, functions are the verbs. Python has already some default functions, functions that are ready to use. [Here](https://docs.python.org/3/library/functions.html) you can find the build-in Python functions."
   ]
  },
  {
   "cell_type": "code",
   "execution_count": 15,
   "id": "7fa047d5-0228-47af-a18c-c40f25aa38bd",
   "metadata": {},
   "outputs": [
    {
     "name": "stdout",
     "output_type": "stream",
     "text": [
      "Stefano\n"
     ]
    }
   ],
   "source": [
    "result = print(name)\n",
    "result"
   ]
  },
  {
   "cell_type": "markdown",
   "id": "bbe09503-67e9-499f-a5b8-be84cd6ef36a",
   "metadata": {},
   "source": [
    "The way a function works is common to all programming languages: you give to the function one or more parameters, the function performs an action, and it returns a result. This happens so fast that, as a matter of fact, you can already think at a function and its parameters as its result. \n",
    "In the previous cell the function ```print()``` got as an input parameter the variable name and it printed its value on the screen. "
   ]
  },
  {
   "cell_type": "code",
   "execution_count": 16,
   "id": "556444b6-5d96-40d4-8709-565ef0e3f5e9",
   "metadata": {},
   "outputs": [
    {
     "name": "stdout",
     "output_type": "stream",
     "text": [
      "55\n"
     ]
    }
   ],
   "source": [
    "numbers = [1,2,3,4,5,6,7,8,9,10]\n",
    "result = sum(numbers)\n",
    "print(result)"
   ]
  },
  {
   "cell_type": "markdown",
   "id": "b1feee8c-83d8-4969-b7c8-6808f271d1d6",
   "metadata": {},
   "source": [
    "In the previous cell, we defined a list of values (the first 10 integers), then we used the function sum to (guess what??) sum all the numbers in the list, and we stored the result into the variable ```result```. We finally printed the result using the function ```print()```."
   ]
  },
  {
   "cell_type": "markdown",
   "id": "23b1b321-8e0e-42ed-9c9e-5d7891af8b02",
   "metadata": {},
   "source": [
    "Because we know that variable values are printed automatically in Jupyter notebook cells when they contain the variable name, we could write directly:"
   ]
  },
  {
   "cell_type": "code",
   "execution_count": 17,
   "id": "e1b2b306-dcfb-4005-855f-c4efc0b1df08",
   "metadata": {},
   "outputs": [
    {
     "data": {
      "text/plain": [
       "55"
      ]
     },
     "execution_count": 17,
     "metadata": {},
     "output_type": "execute_result"
    }
   ],
   "source": [
    "sum(numbers)"
   ]
  },
  {
   "cell_type": "markdown",
   "id": "e42adbd7-2605-435b-8bc2-50d0d6eb5f96",
   "metadata": {},
   "source": [
    "Indeed ```sum(numbers)``` represents an operation that returns the value 55 and can be considered equivalent to the value 55 itself, so that when we write it in a cell, we obtain the result printed on the screen."
   ]
  },
  {
   "cell_type": "code",
   "execution_count": 18,
   "id": "16b2bbd5-056d-467f-9c5e-3fd9ae0225c5",
   "metadata": {},
   "outputs": [
    {
     "data": {
      "text/plain": [
       "10"
      ]
     },
     "execution_count": 18,
     "metadata": {},
     "output_type": "execute_result"
    }
   ],
   "source": [
    "len(numbers)"
   ]
  },
  {
   "cell_type": "markdown",
   "id": "4ae64402-a79e-4a67-8602-778dbe545d27",
   "metadata": {},
   "source": [
    "The function ```len()``` is one of the most used function on objects containing many items. Indeed it tell us how many items are contained in that object (i.e. the length of that object). The function ```type()``` returns the type of a variable:"
   ]
  },
  {
   "cell_type": "code",
   "execution_count": 19,
   "id": "dac3c3ae-63f9-4a5e-baac-5c40be003e9c",
   "metadata": {},
   "outputs": [
    {
     "data": {
      "text/plain": [
       "list"
      ]
     },
     "execution_count": 19,
     "metadata": {},
     "output_type": "execute_result"
    }
   ],
   "source": [
    "type(numbers)"
   ]
  },
  {
   "cell_type": "markdown",
   "id": "fb04756b-91b1-44b0-8661-2d1780279ea3",
   "metadata": {},
   "source": [
    "How many functions are there? thousands, probably millions. Some of them have very intuitive names (like ```print()``` and ```sum()```), some others have more complicated names. However, every function that can be used in Python comes with its own documentation, explaining which parameters it accepts, which additional options you can specify, and which kind of result you get back when applying it. To find about a function just google \"<function_name> Python documentation\" or ask ChatGPT about that."
   ]
  },
  {
   "cell_type": "markdown",
   "id": "d773eb5d-2724-4e4e-9f20-6288da52ddd7",
   "metadata": {},
   "source": [
    "## Methods {.unnumbered}"
   ]
  },
  {
   "cell_type": "markdown",
   "id": "eab20ba3-e02d-43bf-9ca8-68b9ad0620e8",
   "metadata": {},
   "source": [
    "Methods are functions that are object-specific. What does it mean? There are certain operations that can be perfomed only on a certain type of object. For example, if we consider a function that transforms lower characters into capital letters, it would not make much sense to apply this function to a number.\n",
    "\n",
    "All objects in python can have their own specific functions and these object-specific functions are called **methods**. To use a method on an object, you need to apply the syntax ```<object_name>.method()```. Do you see the difference compared to a general function syntax? In a general function we have ```function(par1,par2,...)```, while in a method we already know that the function, in this case method, will be applied to its object. Therefore, inside the parenthesis we only have additional parameters.\n",
    "\n",
    "Like functions, methods can accept all kind of parameters, but, of course, their main parameter is the object itself. Let's see some example:"
   ]
  },
  {
   "cell_type": "code",
   "execution_count": 20,
   "id": "404c18b0-44fd-4c21-9fea-bded30cac985",
   "metadata": {},
   "outputs": [],
   "source": [
    "name = 'Stefano Rapisarda Arthurus Micaelus'\n",
    "numbers = [1,2,3,4,5]"
   ]
  },
  {
   "cell_type": "code",
   "execution_count": 21,
   "id": "434b2a2b-423f-4b88-9aa4-08a16c1b1b89",
   "metadata": {},
   "outputs": [
    {
     "data": {
      "text/plain": [
       "['Stefano', 'Rapisarda', 'Arthurus', 'Micaelus']"
      ]
     },
     "execution_count": 21,
     "metadata": {},
     "output_type": "execute_result"
    }
   ],
   "source": [
    "name.split()"
   ]
  },
  {
   "cell_type": "markdown",
   "id": "821563d5-fe96-4598-b594-77600b7f4ec1",
   "metadata": {},
   "source": [
    "We initialised two variables: a string made of several words and a list of numbers. The split() method (a string-specific function) divides the string into a list of strings according to a separator. If you dont' specify any separator (like in our case), white spaces will be considered as separators. Let's see another example:"
   ]
  },
  {
   "cell_type": "code",
   "execution_count": 22,
   "id": "eabbfe22-cbad-4501-9f01-dbff1c974a8a",
   "metadata": {},
   "outputs": [
    {
     "data": {
      "text/plain": [
       "3"
      ]
     },
     "execution_count": 22,
     "metadata": {},
     "output_type": "execute_result"
    }
   ],
   "source": [
    "numbers.pop(2)"
   ]
  },
  {
   "cell_type": "code",
   "execution_count": 23,
   "id": "b1524b33-f2b7-425b-8295-6ca67aae04d2",
   "metadata": {},
   "outputs": [
    {
     "data": {
      "text/plain": [
       "[1, 2, 4, 5]"
      ]
     },
     "execution_count": 23,
     "metadata": {},
     "output_type": "execute_result"
    }
   ],
   "source": [
    "numbers"
   ]
  },
  {
   "cell_type": "markdown",
   "id": "6c0155c3-d516-40c4-9812-09edc45c2607",
   "metadata": {},
   "source": [
    "We initialised two variables: a string made of several words and a list of numbers. The ```split()``` method (a string-specific function) divides the string into a list of strings according to a separator. If you dont' specify any separator (like in our case), white spaces will be considered as separators. The variable ```numbers``` is already a list and using the method ```pop(x)``` we can remove the item occupying the 3rd position (index 2). The method affects the list and returns the just removed value. "
   ]
  },
  {
   "cell_type": "markdown",
   "id": "2e1a57e8-08d0-4858-abf5-f16928978539",
   "metadata": {},
   "source": [
    "How can we found about methods if there are so many? Usually a google search can point you at the method or function you need. In general you can always consult python documentation. You will find about string a list methods [here](https://docs.python.org/3/library/stdtypes.html#string-methods) and [here](https://docs.python.org/3/tutorial/datastructures.html), respectively."
   ]
  },
  {
   "cell_type": "markdown",
   "id": "ef039c34-c5d5-4ee2-841e-b4f5e7629c41",
   "metadata": {},
   "source": [
    "## Loops {.unnumbered}"
   ]
  },
  {
   "cell_type": "markdown",
   "id": "25586f5b-1f95-479c-ba91-181c5eb28b50",
   "metadata": {},
   "source": [
    "One of the potential of using machines is making them repeating the same operation hundreds, millions, or billions of times.\n",
    "\n",
    "Let's say I have a list of names and I want to print them on the screen one by one:"
   ]
  },
  {
   "cell_type": "code",
   "execution_count": 24,
   "id": "f1c7b7b5-fa9d-48ee-8ba5-28ba11ac22c0",
   "metadata": {},
   "outputs": [
    {
     "name": "stdout",
     "output_type": "stream",
     "text": [
      "James\n",
      "Martin\n",
      "Sandra\n",
      "Paul\n",
      "Chani\n"
     ]
    }
   ],
   "source": [
    "names = ['James','Martin','Sandra','Paul','Chani']\n",
    "print(names[0])\n",
    "print(names[1])\n",
    "print(names[2])\n",
    "print(names[3])\n",
    "print(names[4])"
   ]
  },
  {
   "cell_type": "markdown",
   "id": "385ac997-6884-4bea-a10e-625836295e46",
   "metadata": {},
   "source": [
    "This did not take us much time, because the names are only 5, but imagine you have a list of 1000 names; in that case printing all the names could take hours. \n",
    "Looking at the previous cell we notice that we use repeatedly the function ```print()``` using as input the values contained in the list ```names```. Every time we need to repeat an operation many times, we can use a **loop**, specifically a for loop: "
   ]
  },
  {
   "cell_type": "code",
   "execution_count": 25,
   "id": "8bf5348e-ef24-411c-aed9-ce8e43212272",
   "metadata": {},
   "outputs": [
    {
     "name": "stdout",
     "output_type": "stream",
     "text": [
      "0 James\n",
      "1 Martin\n",
      "2 Sandra\n",
      "3 Paul\n",
      "4 Chani\n"
     ]
    }
   ],
   "source": [
    "for i in range(5):\n",
    "    print(i,names[i])"
   ]
  },
  {
   "cell_type": "markdown",
   "id": "1d7747a3-c549-4ffe-b5de-d96729df0e46",
   "metadata": {},
   "source": [
    "In the previous cell the same operation (```print()```) is executed 5 times, but at each step, so at each **iteration**, the variable i changes, going from 0 to 4, one step at the time."
   ]
  },
  {
   "cell_type": "markdown",
   "id": "85cd248b-35ca-4c1f-a4e9-bde7ea9500e3",
   "metadata": {},
   "source": [
    "In order to achieve this result we need to start declaring ```for i```. ```i``` is the variable name acting as a place holder for a value that will change at every step of the iteration. We chose the letter i, but you can choose any other name. After ```for i```, we need to specify which values ```i``` can assume at each iteration. ```in range(5)``` means that ```i``` will go from 0 to 4, so it will increase of 1 integer per iteration stopping just before 5. Instead of a range of numbers, we can specify any other object containing several objects in it. In that case, the variable ```i``` (or whatever you will decide to call it), at each iteration, will be initialized with each value contained in the specified object. Let's see some example:"
   ]
  },
  {
   "cell_type": "code",
   "execution_count": 26,
   "id": "c25bc8f0-cf42-4215-a319-7029e51d4d0e",
   "metadata": {},
   "outputs": [
    {
     "name": "stdout",
     "output_type": "stream",
     "text": [
      "0\n",
      "1\n",
      "2\n",
      "3\n",
      "4\n",
      "5\n",
      "6\n",
      "7\n",
      "8\n",
      "9\n",
      "10\n",
      "11\n"
     ]
    }
   ],
   "source": [
    "for a in range(12): print(a)"
   ]
  },
  {
   "cell_type": "code",
   "execution_count": 27,
   "id": "bd098268-a240-4e20-b5dd-339236d4ec12",
   "metadata": {},
   "outputs": [
    {
     "name": "stdout",
     "output_type": "stream",
     "text": [
      "0\n",
      "1\n",
      "4\n",
      "5\n",
      "6\n",
      "7\n"
     ]
    }
   ],
   "source": [
    "for value in [0,1,4,5,6,7]:\n",
    "    print(value)"
   ]
  },
  {
   "cell_type": "code",
   "execution_count": 28,
   "id": "b0a99b60-f723-448d-aa86-c64f104ad30e",
   "metadata": {},
   "outputs": [
    {
     "name": "stdout",
     "output_type": "stream",
     "text": [
      "James\n",
      "Martin\n",
      "Sandra\n",
      "Paul\n",
      "Chani\n"
     ]
    }
   ],
   "source": [
    "for name in names:\n",
    "    print(name)"
   ]
  },
  {
   "cell_type": "markdown",
   "id": "f73045de-fa4f-4861-8b78-279ec477843b",
   "metadata": {},
   "source": [
    "For *looping* over dictionaries, the concept is the same, but the syntax is a bit different because of the key/value stricture of dictionaries:"
   ]
  },
  {
   "cell_type": "code",
   "execution_count": 29,
   "id": "63c0ee22-663e-41fe-80fe-8615fa8dc6ef",
   "metadata": {},
   "outputs": [
    {
     "name": "stdout",
     "output_type": "stream",
     "text": [
      "name : Stefano\n",
      "surname : Rapisarda\n",
      "favourite_number : 6\n",
      "favourite_planet : Saturn\n"
     ]
    }
   ],
   "source": [
    "info_dict = {\n",
    "    'name':'Stefano',\n",
    "    'surname':'Rapisarda',\n",
    "    'favourite_number':6,\n",
    "    'favourite_planet':'Saturn'\n",
    "}\n",
    "for key,value in info_dict.items():\n",
    "    print(key,':',value)"
   ]
  },
  {
   "cell_type": "markdown",
   "id": "35951dce-474a-4fa7-8bef-9cb9c9b34171",
   "metadata": {},
   "source": [
    "**WARNING** You noticed that after the for statement, there is an indent of 4 spaces. You can make that indent using the TAB key. That indent tells python that that specific line of code is inside the look and, therefore, needs to be repeated. When you write code without indents, before or after the loop, those lines will be executed normally, i.e. once, one after the other."
   ]
  },
  {
   "cell_type": "code",
   "execution_count": 30,
   "id": "6379031b-8b65-4b52-9e9a-1e94735ed6a4",
   "metadata": {},
   "outputs": [
    {
     "name": "stdout",
     "output_type": "stream",
     "text": [
      "Beginning of the for loop, we will have 10 iterations\n",
      "========================================================================\n",
      "This is iteration number: 0\n",
      "The next iteration will be: 1\n",
      "End of iteration 0\n",
      "--------------------------------------------------------------\n",
      "This is iteration number: 1\n",
      "The next iteration will be: 2\n",
      "End of iteration 1\n",
      "--------------------------------------------------------------\n",
      "This is iteration number: 2\n",
      "The next iteration will be: 3\n",
      "End of iteration 2\n",
      "--------------------------------------------------------------\n",
      "This is iteration number: 3\n",
      "The next iteration will be: 4\n",
      "End of iteration 3\n",
      "--------------------------------------------------------------\n",
      "This is iteration number: 4\n",
      "The next iteration will be: 5\n",
      "End of iteration 4\n",
      "--------------------------------------------------------------\n",
      "This is iteration number: 5\n",
      "The next iteration will be: 6\n",
      "End of iteration 5\n",
      "--------------------------------------------------------------\n",
      "This is iteration number: 6\n",
      "The next iteration will be: 7\n",
      "End of iteration 6\n",
      "--------------------------------------------------------------\n",
      "This is iteration number: 7\n",
      "The next iteration will be: 8\n",
      "End of iteration 7\n",
      "--------------------------------------------------------------\n",
      "This is iteration number: 8\n",
      "The next iteration will be: 9\n",
      "End of iteration 8\n",
      "--------------------------------------------------------------\n",
      "This is iteration number: 9\n",
      "The next iteration will be: 10\n",
      "End of iteration 9\n",
      "--------------------------------------------------------------\n",
      "========================================================================\n",
      "End of the loop\n"
     ]
    }
   ],
   "source": [
    "print('Beginning of the for loop, we will have 10 iterations')\n",
    "print('='*72)\n",
    "for i in range(10):\n",
    "    print('This is iteration number:',i)\n",
    "    print('The next iteration will be:',i+1)\n",
    "    print('End of iteration',i)\n",
    "    print('-'*62)\n",
    "print('='*72)\n",
    "print('End of the loop')"
   ]
  },
  {
   "cell_type": "markdown",
   "id": "29663962-18fe-4170-b10b-80449e74ad34",
   "metadata": {},
   "source": [
    "## Conditional statements {.unnumbered}"
   ]
  },
  {
   "cell_type": "markdown",
   "id": "5774ecf5-96a9-480a-a7f6-5297cb7fdaa1",
   "metadata": {},
   "source": [
    "We have seen how to store data and information into variables and how to access this information by indexing, so referring to the position of values inside an object. How about selecting information using other criteria? What about if we want to visualize only peoples names if they are older than 30 or printing the names of towns that start with an 's'?\n",
    "To do that in programming we need to use **conditional statements**. Conditional statements are indeed conditions that need to be satisfied in order for something to happen. What is \"something\"? Whatever action we want: an operation, a printing function, etc."
   ]
  },
  {
   "cell_type": "code",
   "execution_count": 31,
   "id": "f9c83293-2448-4f75-a1ea-27b418eb21b1",
   "metadata": {},
   "outputs": [
    {
     "name": "stdout",
     "output_type": "stream",
     "text": [
      "Not interested!\n",
      "Not interested!\n",
      "favourite_number : 6\n",
      "favourite_planet : Saturn\n"
     ]
    }
   ],
   "source": [
    "for key,value in info_dict.items():\n",
    "    if 'favourite' in key:\n",
    "        print(key,':',value)\n",
    "    else:\n",
    "        print('Not interested!')"
   ]
  },
  {
   "cell_type": "markdown",
   "id": "15965232-7c3d-44d5-93f2-6fc7bae62239",
   "metadata": {},
   "source": [
    "We used the same for loop to explore dictionaries keys and values, but this time, inside it, we wrote a conditional statement. The syntax for a conditional statement is: \n",
    "```\n",
    "if <condition>: \n",
    "    action\n",
    "else:\n",
    "    other_action\n",
    "```\n",
    "```<condition>``` is the condition that needs to be satisfied. In this case we want the word 'favourite' to be contained inside the key. If this happens, the condition is True and the \"action\" is perfomed (in our case, key and value will be printed). If the condition is False, the \"other_action\" will be perfomed (in our case, the 'Not interested' message will be printed)."
   ]
  },
  {
   "cell_type": "markdown",
   "id": "fae375ef-93f3-471b-a078-63a7d31197fc",
   "metadata": {},
   "source": [
    "You can also make conditions comparing quantities:"
   ]
  },
  {
   "cell_type": "code",
   "execution_count": 32,
   "id": "b8a97996-937d-43f2-bb4c-0e6eb34e277d",
   "metadata": {},
   "outputs": [
    {
     "name": "stdout",
     "output_type": "stream",
     "text": [
      "1 is smaller than 4\n",
      "2 is smaller than 4\n",
      "3 is smaller than 4\n",
      "4 is exactly 4\n",
      "5 is larger than 4\n",
      "6 is larger than 4\n",
      "7 is larger than 4\n"
     ]
    }
   ],
   "source": [
    "numbers = [1,2,3,4,5,6,7]\n",
    "for number in numbers:\n",
    "    if number < 4:\n",
    "        print(number,'is smaller than 4')\n",
    "    elif number > 4:\n",
    "        print(number,'is larger than 4')\n",
    "    elif number == 4:\n",
    "        print(number,'is exactly 4')"
   ]
  },
  {
   "cell_type": "markdown",
   "id": "1cfbc5af-bf0a-476c-b39d-0046a434e142",
   "metadata": {},
   "source": [
    "Conditional statements may also be combined:"
   ]
  },
  {
   "cell_type": "code",
   "execution_count": 33,
   "id": "3a72a87e-1123-4658-9e0a-de54825bb097",
   "metadata": {},
   "outputs": [
    {
     "name": "stdout",
     "output_type": "stream",
     "text": [
      "1 is not 4\n",
      "2 is not 4\n",
      "3 is not 4\n",
      "4 must be 4\n",
      "5 is not 4\n",
      "6 is not 4\n",
      "7 is not 4\n"
     ]
    }
   ],
   "source": [
    "for number in numbers:\n",
    "    if (number < 4) or (number > 4):\n",
    "        print(number, 'is not 4')\n",
    "    else:\n",
    "        print(number, 'must be 4')\n",
    "    "
   ]
  },
  {
   "cell_type": "markdown",
   "id": "4c192485-52c3-4c2d-9600-f772aaa4f690",
   "metadata": {},
   "source": [
    "In the previous case we used three conditions that are satisfied if a number is smaller, larger, and equal to 4."
   ]
  },
  {
   "cell_type": "markdown",
   "id": "9d66a4c8-34c4-4120-9a5a-133cbc918257",
   "metadata": {},
   "source": [
    "Using loops in combination with conditional statements is particularly useful when it's time to select data. For example, imagine we have data in a table with two columns, one containes years and the other column can be any kind of measurement. In this case, you can use conditional statements to select measurements and very specific time intervals."
   ]
  },
  {
   "cell_type": "markdown",
   "id": "068fec58-1a53-4568-a268-b42b0e7415bc",
   "metadata": {},
   "source": []
  },
  {
   "cell_type": "markdown",
   "id": "2b215201",
   "metadata": {},
   "source": [
    "## Packages {.unnumbered}"
   ]
  },
  {
   "cell_type": "raw",
   "id": "ca6c94c9-34a3-4993-ba68-47bfd97ef924",
   "metadata": {},
   "source": [
    "There are millions of functions and objects out there, how can we use them? Python installation does not come with ALL the functions ever written for Python. Functions and objects are usually organized in **packages** (also called libraries or moduli). Each package contains a set of tools specific for certain tasks. There are tools for statistics, machine learning, building website, text-mining, etc.\n",
    "How can we access all these tools? First of all, we need to download the package into our computer. Usually in the documentation page of the package, there are installation instruction. Once installed, the package needs to be imported."
   ]
  },
  {
   "cell_type": "code",
   "execution_count": 34,
   "id": "54ebe071-95e5-42b8-9bba-f6234702de29",
   "metadata": {},
   "outputs": [],
   "source": [
    "import pandas as pd\n",
    "from matplotlib import pyplot as plt"
   ]
  },
  {
   "cell_type": "markdown",
   "id": "be0e70f8-4908-4d49-92c1-980e753adffc",
   "metadata": {},
   "source": [
    "In the previous cell we imported two packages, pandas and pyplot. When we import something, it is convenient to choose an alias for it, so that, when needed, we don't need to write its entire name. In our case, ```pd``` will be the alias for pandas. \n",
    "\n",
    "In the second line we see a slightly sifferent statement. In this case, we import the package pyplot. The package is a sub-package of the massive library matplotlib. Therefore, we need to specify the macro-package containing pyplot. We could also import pyplot in the following way."
   ]
  },
  {
   "cell_type": "code",
   "execution_count": 35,
   "id": "9fdb320d-41fe-4c45-8dfd-d84936028e20",
   "metadata": {},
   "outputs": [],
   "source": [
    "import matplotlib.pyplot as plt"
   ]
  },
  {
   "cell_type": "markdown",
   "id": "f1f97551-2078-460e-b338-fc04bc5a2755",
   "metadata": {},
   "source": [
    "From now on, every time we will need to use a pandas function or object, we just need to specify the alias of the package before the function or object we want to use:"
   ]
  },
  {
   "cell_type": "code",
   "execution_count": 36,
   "id": "cef04b6d-e11f-44f3-a856-ded2c64f5085",
   "metadata": {},
   "outputs": [],
   "source": [
    "df = pd.DataFrame()"
   ]
  },
  {
   "cell_type": "markdown",
   "id": "1ddfa67c-8efb-43e4-8d08-a0ab61905117",
   "metadata": {},
   "source": [
    "In the previous case, we initialised a variable called ```pd``` with a pandas DataFrame. Let's see what happens if we forget to specify ```pd```:\n"
   ]
  },
  {
   "cell_type": "code",
   "execution_count": 37,
   "id": "27e05aa2-0651-4f7a-8b1b-c9c93c84d22e",
   "metadata": {},
   "outputs": [
    {
     "ename": "NameError",
     "evalue": "name 'DataFrame' is not defined",
     "output_type": "error",
     "traceback": [
      "\u001b[0;31m---------------------------------------------------------------------------\u001b[0m",
      "\u001b[0;31mNameError\u001b[0m                                 Traceback (most recent call last)",
      "Cell \u001b[0;32mIn[37], line 1\u001b[0m\n\u001b[0;32m----> 1\u001b[0m df \u001b[38;5;241m=\u001b[39m DataFrame()\n",
      "\u001b[0;31mNameError\u001b[0m: name 'DataFrame' is not defined"
     ]
    }
   ],
   "source": [
    "df = DataFrame()"
   ]
  },
  {
   "cell_type": "markdown",
   "id": "7072d4aa-d34d-4206-8c92-11d28253f5b4",
   "metadata": {},
   "source": [
    "We obtain an error because Python does not recognize the function name."
   ]
  }
 ],
 "metadata": {
  "kernelspec": {
   "display_name": "Python 3 (ipykernel)",
   "language": "python",
   "name": "python3"
  },
  "language_info": {
   "codemirror_mode": {
    "name": "ipython",
    "version": 3
   },
   "file_extension": ".py",
   "mimetype": "text/x-python",
   "name": "python",
   "nbconvert_exporter": "python",
   "pygments_lexer": "ipython3",
   "version": "3.11.7"
  }
 },
 "nbformat": 4,
 "nbformat_minor": 5
}
