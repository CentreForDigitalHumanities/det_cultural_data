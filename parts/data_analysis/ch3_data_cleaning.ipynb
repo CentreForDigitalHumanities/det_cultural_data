{
 "cells": [
  {
   "cell_type": "code",
   "execution_count": null,
   "id": "74d1ad0a-e634-4d86-917b-7e8cf046ba6c",
   "metadata": {},
   "outputs": [],
   "source": [
    "ch3_data_clearning.ipynb"
   ]
  },
  {
   "cell_type": "code",
   "execution_count": null,
   "id": "2a6a930c-fc3e-4c36-893d-2cf061f645d0",
   "metadata": {},
   "outputs": [],
   "source": [
    "At this point we know enough general information to start diving deep in the analysis of our DataFrame, we are ready to interrogate this dataset and see which kind of story it is going to tell us."
   ]
  }
 ],
 "metadata": {
  "kernelspec": {
   "display_name": "Python 3 (ipykernel)",
   "language": "python",
   "name": "python3"
  },
  "language_info": {
   "codemirror_mode": {
    "name": "ipython",
    "version": 3
   },
   "file_extension": ".py",
   "mimetype": "text/x-python",
   "name": "python",
   "nbconvert_exporter": "python",
   "pygments_lexer": "ipython3",
   "version": "3.11.7"
  }
 },
 "nbformat": 4,
 "nbformat_minor": 5
}
