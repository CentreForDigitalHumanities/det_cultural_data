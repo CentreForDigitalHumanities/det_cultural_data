{
 "cells": [
  {
   "cell_type": "markdown",
   "metadata": {},
   "source": [
    "# Data exploration workflow\n",
    "\n",
    "1. **Define a Research question:**\n",
    "   - Understand the problem or question you are trying to address;\n",
    "   - Clearly define the goals, objectives, and sub-task to answer a research question.\n",
    "\n",
    "2. **Collect/Organise Data:**\n",
    "   - Collect relevant data from various sources;\n",
    "   - Ensure data quality, address any missing or inconsistent data, ensure proper data structure.\n",
    "\n",
    "3. **Clean Data:**\n",
    "   - Clean and preprocess the data to handle missing values, outliers, and errors;\n",
    "   - Standardize or normalize data formats if necessary.\n",
    "\n",
    "4. **Explore Data:**\n",
    "   - Explore the data using statistical and visual methods;\n",
    "   - Identify patterns, trends, and relationships in the data.\n",
    "\n",
    "5. **(Model):**\n",
    "   - Select appropriate models based on the analysis goals;\n",
    "   - Evaluate the model's performance using metrics relevant to the analysis;\n",
    "   - Fine-tune the model if necessary.\n",
    "\n",
    "6. **Interpret Data:**\n",
    "   - Interpret the results of the analysis in the context of the initial research question;\n",
    "   - Draw conclusions and make recommendations based on the findings.\n",
    "\n",
    "7. **Visualization and Reporting:**\n",
    "    - Create visualizations to communicate key findings;\n",
    "    - Prepare a comprehensive report summarizing the analysis process, results, and insights."
   ]
  },
  {
   "cell_type": "markdown",
   "metadata": {},
   "source": [
    "# Reading data"
   ]
  },
  {
   "cell_type": "code",
   "execution_count": null,
   "metadata": {
    "colab": {
     "base_uri": "https://localhost:8080/"
    },
    "executionInfo": {
     "elapsed": 1450,
     "status": "ok",
     "timestamp": 1710170257134,
     "user": {
      "displayName": "Stefano R.",
      "userId": "13292509372930268929"
     },
     "user_tz": -60
    },
    "id": "ZZYOV62-Fplz",
    "outputId": "5b4354ff-af52-459e-c267-23479f90d47d"
   },
   "outputs": [
    {
     "name": "stdout",
     "output_type": "stream",
     "text": [
      "<class 'pandas.core.frame.DataFrame'>\n"
     ]
    }
   ],
   "source": [
    "import pandas as pd\n",
    "\n",
    "data_file = 'data/data.csv'\n",
    "df = pd.read_csv(data_file)\n",
    "\n",
    "print(type(df))"
   ]
  },
  {
   "cell_type": "code",
   "execution_count": null,
   "metadata": {
    "colab": {
     "base_uri": "https://localhost:8080/",
     "height": 450
    },
    "executionInfo": {
     "elapsed": 227,
     "status": "ok",
     "timestamp": 1710170295756,
     "user": {
      "displayName": "Stefano R.",
      "userId": "13292509372930268929"
     },
     "user_tz": -60
    },
    "id": "okvmqJ8PFy8u",
    "outputId": "a1f00cdb-846d-4408-874c-50b639294587"
   },
   "outputs": [
    {
     "data": {
      "application/vnd.google.colaboratory.intrinsic+json": {
       "summary": "{\n  \"name\": \"df\",\n  \"rows\": 36151,\n  \"fields\": [\n    {\n      \"column\": \"Year of arrival at port of disembarkation\",\n      \"properties\": {\n        \"dtype\": \"number\",\n        \"std\": 59.23521848623553,\n        \"min\": 1514.0,\n        \"max\": 1866.0,\n        \"num_unique_values\": 337,\n        \"samples\": [\n          1764.0,\n          1671.0,\n          1775.0\n        ],\n        \"semantic_type\": \"\",\n        \"description\": \"\"\n      }\n    },\n    {\n      \"column\": \"Voyage ID\",\n      \"properties\": {\n        \"dtype\": \"number\",\n        \"std\": 72670,\n        \"min\": 1,\n        \"max\": 900237,\n        \"num_unique_values\": 36151,\n        \"samples\": [\n          28023,\n          3934,\n          16033\n        ],\n        \"semantic_type\": \"\",\n        \"description\": \"\"\n      }\n    },\n    {\n      \"column\": \"Vessel name\",\n      \"properties\": {\n        \"dtype\": \"category\",\n        \"num_unique_values\": 9496,\n        \"samples\": [\n          \"Espanhola\",\n          \"NS de la O y S Josef\",\n          \"Mayflower\"\n        ],\n        \"semantic_type\": \"\",\n        \"description\": \"\"\n      }\n    },\n    {\n      \"column\": \"Voyage itinerary imputed port where began (ptdepimp) place\",\n      \"properties\": {\n        \"dtype\": \"category\",\n        \"num_unique_values\": 241,\n        \"samples\": [\n          \"Nantes\",\n          \"La Rochelle\",\n          \"Rio de la Plata, port unspecified\"\n        ],\n        \"semantic_type\": \"\",\n        \"description\": \"\"\n      }\n    },\n    {\n      \"column\": \"Voyage itinerary imputed principal place of slave purchase (mjbyptimp) \",\n      \"properties\": {\n        \"dtype\": \"category\",\n        \"num_unique_values\": 188,\n        \"samples\": [\n          \"Gold Coast from Kormatine to Accra\",\n          \"French Africa (Goree or Senegal)\",\n          \"Banana Islands\"\n        ],\n        \"semantic_type\": \"\",\n        \"description\": \"\"\n      }\n    },\n    {\n      \"column\": \"Voyage itinerary imputed principal port of slave disembarkation (mjslptimp) place\",\n      \"properties\": {\n        \"dtype\": \"category\",\n        \"num_unique_values\": 280,\n        \"samples\": [\n          \"Cape of Good Hope\",\n          \"New Spain, port unspecified\",\n          \"Princes Island\"\n        ],\n        \"semantic_type\": \"\",\n        \"description\": \"\"\n      }\n    },\n    {\n      \"column\": \"VOYAGEID2\",\n      \"properties\": {\n        \"dtype\": \"category\",\n        \"num_unique_values\": 50,\n        \"samples\": [\n          \"[112071]\",\n          \"[102229]\",\n          \"[102133]\"\n        ],\n        \"semantic_type\": \"\",\n        \"description\": \"\"\n      }\n    },\n    {\n      \"column\": \"Captives arrived at 1st port\",\n      \"properties\": {\n        \"dtype\": \"number\",\n        \"std\": 158.751904846887,\n        \"min\": 0.0,\n        \"max\": 1700.0,\n        \"num_unique_values\": 817,\n        \"samples\": [\n          284.0,\n          68.0,\n          281.0\n        ],\n        \"semantic_type\": \"\",\n        \"description\": \"\"\n      }\n    },\n    {\n      \"column\": \"Captain's name\",\n      \"properties\": {\n        \"dtype\": \"string\",\n        \"num_unique_values\": 18977,\n        \"samples\": [\n          \"Lagere, Pierre-Joseph\",\n          \"Clark, James<br/> Duncan\",\n          \"Guedes, Manoel Jos\\u00e9 da Silva<br/> Neves, Jos\\u00e9 da Silva\"\n        ],\n        \"semantic_type\": \"\",\n        \"description\": \"\"\n      }\n    }\n  ]\n}",
       "type": "dataframe",
       "variable_name": "df"
      },
      "text/html": [
       "\n",
       "  <div id=\"df-03e4cebd-0a22-43c4-b699-56fe40be8b48\" class=\"colab-df-container\">\n",
       "    <div>\n",
       "<style scoped>\n",
       "    .dataframe tbody tr th:only-of-type {\n",
       "        vertical-align: middle;\n",
       "    }\n",
       "\n",
       "    .dataframe tbody tr th {\n",
       "        vertical-align: top;\n",
       "    }\n",
       "\n",
       "    .dataframe thead th {\n",
       "        text-align: right;\n",
       "    }\n",
       "</style>\n",
       "<table border=\"1\" class=\"dataframe\">\n",
       "  <thead>\n",
       "    <tr style=\"text-align: right;\">\n",
       "      <th></th>\n",
       "      <th>Year of arrival at port of disembarkation</th>\n",
       "      <th>Voyage ID</th>\n",
       "      <th>Vessel name</th>\n",
       "      <th>Voyage itinerary imputed port where began (ptdepimp) place</th>\n",
       "      <th>Voyage itinerary imputed principal place of slave purchase (mjbyptimp)</th>\n",
       "      <th>Voyage itinerary imputed principal port of slave disembarkation (mjslptimp) place</th>\n",
       "      <th>VOYAGEID2</th>\n",
       "      <th>Captives arrived at 1st port</th>\n",
       "      <th>Captain's name</th>\n",
       "    </tr>\n",
       "  </thead>\n",
       "  <tbody>\n",
       "    <tr>\n",
       "      <th>0</th>\n",
       "      <td>1714.0</td>\n",
       "      <td>16109</td>\n",
       "      <td>Freeke Gally</td>\n",
       "      <td>Bristol</td>\n",
       "      <td>NaN</td>\n",
       "      <td>Kingston</td>\n",
       "      <td>NaN</td>\n",
       "      <td>283.0</td>\n",
       "      <td>Neale, Alexander</td>\n",
       "    </tr>\n",
       "    <tr>\n",
       "      <th>1</th>\n",
       "      <td>1713.0</td>\n",
       "      <td>16110</td>\n",
       "      <td>Greyhound Gally</td>\n",
       "      <td>Bristol</td>\n",
       "      <td>NaN</td>\n",
       "      <td>Jamaica, place unspecified</td>\n",
       "      <td>NaN</td>\n",
       "      <td>NaN</td>\n",
       "      <td>Selkirk, Alexander&lt;br/&gt; Forrest, Henry</td>\n",
       "    </tr>\n",
       "    <tr>\n",
       "      <th>2</th>\n",
       "      <td>1714.0</td>\n",
       "      <td>16111</td>\n",
       "      <td>Jacob</td>\n",
       "      <td>Bristol</td>\n",
       "      <td>NaN</td>\n",
       "      <td>Kingston</td>\n",
       "      <td>NaN</td>\n",
       "      <td>130.0</td>\n",
       "      <td>Nicholls, Philip</td>\n",
       "    </tr>\n",
       "    <tr>\n",
       "      <th>3</th>\n",
       "      <td>1714.0</td>\n",
       "      <td>16112</td>\n",
       "      <td>Jason Gally</td>\n",
       "      <td>Bristol</td>\n",
       "      <td>NaN</td>\n",
       "      <td>Port Royal</td>\n",
       "      <td>NaN</td>\n",
       "      <td>278.0</td>\n",
       "      <td>Plummer, John</td>\n",
       "    </tr>\n",
       "    <tr>\n",
       "      <th>4</th>\n",
       "      <td>1713.0</td>\n",
       "      <td>16113</td>\n",
       "      <td>Lawford Gally</td>\n",
       "      <td>Bristol</td>\n",
       "      <td>Africa, port unspecified</td>\n",
       "      <td>Newcastle (Nevis)</td>\n",
       "      <td>NaN</td>\n",
       "      <td>NaN</td>\n",
       "      <td>Stretton, Joseph</td>\n",
       "    </tr>\n",
       "    <tr>\n",
       "      <th>5</th>\n",
       "      <td>1714.0</td>\n",
       "      <td>16114</td>\n",
       "      <td>Mercy Gally</td>\n",
       "      <td>Bristol</td>\n",
       "      <td>Africa, port unspecified</td>\n",
       "      <td>Barbados, place unspecified</td>\n",
       "      <td>NaN</td>\n",
       "      <td>190.0</td>\n",
       "      <td>Scott, John</td>\n",
       "    </tr>\n",
       "    <tr>\n",
       "      <th>6</th>\n",
       "      <td>1714.0</td>\n",
       "      <td>16115</td>\n",
       "      <td>Mermaid Gally</td>\n",
       "      <td>Bristol</td>\n",
       "      <td>Cape Verde Islands</td>\n",
       "      <td>Kingston</td>\n",
       "      <td>NaN</td>\n",
       "      <td>72.0</td>\n",
       "      <td>Banbury, John&lt;br/&gt; Copinger, James</td>\n",
       "    </tr>\n",
       "    <tr>\n",
       "      <th>7</th>\n",
       "      <td>1713.0</td>\n",
       "      <td>16116</td>\n",
       "      <td>Morning Star</td>\n",
       "      <td>Bristol</td>\n",
       "      <td>Africa, port unspecified</td>\n",
       "      <td>Charleston</td>\n",
       "      <td>NaN</td>\n",
       "      <td>NaN</td>\n",
       "      <td>Poole, Nicholas</td>\n",
       "    </tr>\n",
       "    <tr>\n",
       "      <th>8</th>\n",
       "      <td>1714.0</td>\n",
       "      <td>16117</td>\n",
       "      <td>Peterborough</td>\n",
       "      <td>Bristol</td>\n",
       "      <td>Africa, port unspecified</td>\n",
       "      <td>Barbados, place unspecified</td>\n",
       "      <td>NaN</td>\n",
       "      <td>200.0</td>\n",
       "      <td>Shawe, John&lt;br/&gt; Martin, Joseph</td>\n",
       "    </tr>\n",
       "    <tr>\n",
       "      <th>9</th>\n",
       "      <td>1713.0</td>\n",
       "      <td>16118</td>\n",
       "      <td>Resolution</td>\n",
       "      <td>Bristol</td>\n",
       "      <td>Gold Coast, port unspecified</td>\n",
       "      <td>Barbados, place unspecified</td>\n",
       "      <td>NaN</td>\n",
       "      <td>255.0</td>\n",
       "      <td>Williams, Charles</td>\n",
       "    </tr>\n",
       "  </tbody>\n",
       "</table>\n",
       "</div>\n",
       "    <div class=\"colab-df-buttons\">\n",
       "\n",
       "  <div class=\"colab-df-container\">\n",
       "    <button class=\"colab-df-convert\" onclick=\"convertToInteractive('df-03e4cebd-0a22-43c4-b699-56fe40be8b48')\"\n",
       "            title=\"Convert this dataframe to an interactive table.\"\n",
       "            style=\"display:none;\">\n",
       "\n",
       "  <svg xmlns=\"http://www.w3.org/2000/svg\" height=\"24px\" viewBox=\"0 -960 960 960\">\n",
       "    <path d=\"M120-120v-720h720v720H120Zm60-500h600v-160H180v160Zm220 220h160v-160H400v160Zm0 220h160v-160H400v160ZM180-400h160v-160H180v160Zm440 0h160v-160H620v160ZM180-180h160v-160H180v160Zm440 0h160v-160H620v160Z\"/>\n",
       "  </svg>\n",
       "    </button>\n",
       "\n",
       "  <style>\n",
       "    .colab-df-container {\n",
       "      display:flex;\n",
       "      gap: 12px;\n",
       "    }\n",
       "\n",
       "    .colab-df-convert {\n",
       "      background-color: #E8F0FE;\n",
       "      border: none;\n",
       "      border-radius: 50%;\n",
       "      cursor: pointer;\n",
       "      display: none;\n",
       "      fill: #1967D2;\n",
       "      height: 32px;\n",
       "      padding: 0 0 0 0;\n",
       "      width: 32px;\n",
       "    }\n",
       "\n",
       "    .colab-df-convert:hover {\n",
       "      background-color: #E2EBFA;\n",
       "      box-shadow: 0px 1px 2px rgba(60, 64, 67, 0.3), 0px 1px 3px 1px rgba(60, 64, 67, 0.15);\n",
       "      fill: #174EA6;\n",
       "    }\n",
       "\n",
       "    .colab-df-buttons div {\n",
       "      margin-bottom: 4px;\n",
       "    }\n",
       "\n",
       "    [theme=dark] .colab-df-convert {\n",
       "      background-color: #3B4455;\n",
       "      fill: #D2E3FC;\n",
       "    }\n",
       "\n",
       "    [theme=dark] .colab-df-convert:hover {\n",
       "      background-color: #434B5C;\n",
       "      box-shadow: 0px 1px 3px 1px rgba(0, 0, 0, 0.15);\n",
       "      filter: drop-shadow(0px 1px 2px rgba(0, 0, 0, 0.3));\n",
       "      fill: #FFFFFF;\n",
       "    }\n",
       "  </style>\n",
       "\n",
       "    <script>\n",
       "      const buttonEl =\n",
       "        document.querySelector('#df-03e4cebd-0a22-43c4-b699-56fe40be8b48 button.colab-df-convert');\n",
       "      buttonEl.style.display =\n",
       "        google.colab.kernel.accessAllowed ? 'block' : 'none';\n",
       "\n",
       "      async function convertToInteractive(key) {\n",
       "        const element = document.querySelector('#df-03e4cebd-0a22-43c4-b699-56fe40be8b48');\n",
       "        const dataTable =\n",
       "          await google.colab.kernel.invokeFunction('convertToInteractive',\n",
       "                                                    [key], {});\n",
       "        if (!dataTable) return;\n",
       "\n",
       "        const docLinkHtml = 'Like what you see? Visit the ' +\n",
       "          '<a target=\"_blank\" href=https://colab.research.google.com/notebooks/data_table.ipynb>data table notebook</a>'\n",
       "          + ' to learn more about interactive tables.';\n",
       "        element.innerHTML = '';\n",
       "        dataTable['output_type'] = 'display_data';\n",
       "        await google.colab.output.renderOutput(dataTable, element);\n",
       "        const docLink = document.createElement('div');\n",
       "        docLink.innerHTML = docLinkHtml;\n",
       "        element.appendChild(docLink);\n",
       "      }\n",
       "    </script>\n",
       "  </div>\n",
       "\n",
       "\n",
       "<div id=\"df-868b5a59-048c-4063-938e-fe721b4f6fb8\">\n",
       "  <button class=\"colab-df-quickchart\" onclick=\"quickchart('df-868b5a59-048c-4063-938e-fe721b4f6fb8')\"\n",
       "            title=\"Suggest charts\"\n",
       "            style=\"display:none;\">\n",
       "\n",
       "<svg xmlns=\"http://www.w3.org/2000/svg\" height=\"24px\"viewBox=\"0 0 24 24\"\n",
       "     width=\"24px\">\n",
       "    <g>\n",
       "        <path d=\"M19 3H5c-1.1 0-2 .9-2 2v14c0 1.1.9 2 2 2h14c1.1 0 2-.9 2-2V5c0-1.1-.9-2-2-2zM9 17H7v-7h2v7zm4 0h-2V7h2v10zm4 0h-2v-4h2v4z\"/>\n",
       "    </g>\n",
       "</svg>\n",
       "  </button>\n",
       "\n",
       "<style>\n",
       "  .colab-df-quickchart {\n",
       "      --bg-color: #E8F0FE;\n",
       "      --fill-color: #1967D2;\n",
       "      --hover-bg-color: #E2EBFA;\n",
       "      --hover-fill-color: #174EA6;\n",
       "      --disabled-fill-color: #AAA;\n",
       "      --disabled-bg-color: #DDD;\n",
       "  }\n",
       "\n",
       "  [theme=dark] .colab-df-quickchart {\n",
       "      --bg-color: #3B4455;\n",
       "      --fill-color: #D2E3FC;\n",
       "      --hover-bg-color: #434B5C;\n",
       "      --hover-fill-color: #FFFFFF;\n",
       "      --disabled-bg-color: #3B4455;\n",
       "      --disabled-fill-color: #666;\n",
       "  }\n",
       "\n",
       "  .colab-df-quickchart {\n",
       "    background-color: var(--bg-color);\n",
       "    border: none;\n",
       "    border-radius: 50%;\n",
       "    cursor: pointer;\n",
       "    display: none;\n",
       "    fill: var(--fill-color);\n",
       "    height: 32px;\n",
       "    padding: 0;\n",
       "    width: 32px;\n",
       "  }\n",
       "\n",
       "  .colab-df-quickchart:hover {\n",
       "    background-color: var(--hover-bg-color);\n",
       "    box-shadow: 0 1px 2px rgba(60, 64, 67, 0.3), 0 1px 3px 1px rgba(60, 64, 67, 0.15);\n",
       "    fill: var(--button-hover-fill-color);\n",
       "  }\n",
       "\n",
       "  .colab-df-quickchart-complete:disabled,\n",
       "  .colab-df-quickchart-complete:disabled:hover {\n",
       "    background-color: var(--disabled-bg-color);\n",
       "    fill: var(--disabled-fill-color);\n",
       "    box-shadow: none;\n",
       "  }\n",
       "\n",
       "  .colab-df-spinner {\n",
       "    border: 2px solid var(--fill-color);\n",
       "    border-color: transparent;\n",
       "    border-bottom-color: var(--fill-color);\n",
       "    animation:\n",
       "      spin 1s steps(1) infinite;\n",
       "  }\n",
       "\n",
       "  @keyframes spin {\n",
       "    0% {\n",
       "      border-color: transparent;\n",
       "      border-bottom-color: var(--fill-color);\n",
       "      border-left-color: var(--fill-color);\n",
       "    }\n",
       "    20% {\n",
       "      border-color: transparent;\n",
       "      border-left-color: var(--fill-color);\n",
       "      border-top-color: var(--fill-color);\n",
       "    }\n",
       "    30% {\n",
       "      border-color: transparent;\n",
       "      border-left-color: var(--fill-color);\n",
       "      border-top-color: var(--fill-color);\n",
       "      border-right-color: var(--fill-color);\n",
       "    }\n",
       "    40% {\n",
       "      border-color: transparent;\n",
       "      border-right-color: var(--fill-color);\n",
       "      border-top-color: var(--fill-color);\n",
       "    }\n",
       "    60% {\n",
       "      border-color: transparent;\n",
       "      border-right-color: var(--fill-color);\n",
       "    }\n",
       "    80% {\n",
       "      border-color: transparent;\n",
       "      border-right-color: var(--fill-color);\n",
       "      border-bottom-color: var(--fill-color);\n",
       "    }\n",
       "    90% {\n",
       "      border-color: transparent;\n",
       "      border-bottom-color: var(--fill-color);\n",
       "    }\n",
       "  }\n",
       "</style>\n",
       "\n",
       "  <script>\n",
       "    async function quickchart(key) {\n",
       "      const quickchartButtonEl =\n",
       "        document.querySelector('#' + key + ' button');\n",
       "      quickchartButtonEl.disabled = true;  // To prevent multiple clicks.\n",
       "      quickchartButtonEl.classList.add('colab-df-spinner');\n",
       "      try {\n",
       "        const charts = await google.colab.kernel.invokeFunction(\n",
       "            'suggestCharts', [key], {});\n",
       "      } catch (error) {\n",
       "        console.error('Error during call to suggestCharts:', error);\n",
       "      }\n",
       "      quickchartButtonEl.classList.remove('colab-df-spinner');\n",
       "      quickchartButtonEl.classList.add('colab-df-quickchart-complete');\n",
       "    }\n",
       "    (() => {\n",
       "      let quickchartButtonEl =\n",
       "        document.querySelector('#df-868b5a59-048c-4063-938e-fe721b4f6fb8 button');\n",
       "      quickchartButtonEl.style.display =\n",
       "        google.colab.kernel.accessAllowed ? 'block' : 'none';\n",
       "    })();\n",
       "  </script>\n",
       "</div>\n",
       "    </div>\n",
       "  </div>\n"
      ],
      "text/plain": [
       "   Year of arrival at port of disembarkation  Voyage ID      Vessel name  \\\n",
       "0                                     1714.0      16109     Freeke Gally   \n",
       "1                                     1713.0      16110  Greyhound Gally   \n",
       "2                                     1714.0      16111            Jacob   \n",
       "3                                     1714.0      16112      Jason Gally   \n",
       "4                                     1713.0      16113    Lawford Gally   \n",
       "5                                     1714.0      16114      Mercy Gally   \n",
       "6                                     1714.0      16115    Mermaid Gally   \n",
       "7                                     1713.0      16116     Morning Star   \n",
       "8                                     1714.0      16117     Peterborough   \n",
       "9                                     1713.0      16118       Resolution   \n",
       "\n",
       "  Voyage itinerary imputed port where began (ptdepimp) place  \\\n",
       "0                                            Bristol           \n",
       "1                                            Bristol           \n",
       "2                                            Bristol           \n",
       "3                                            Bristol           \n",
       "4                                            Bristol           \n",
       "5                                            Bristol           \n",
       "6                                            Bristol           \n",
       "7                                            Bristol           \n",
       "8                                            Bristol           \n",
       "9                                            Bristol           \n",
       "\n",
       "  Voyage itinerary imputed principal place of slave purchase (mjbyptimp)   \\\n",
       "0                                                NaN                        \n",
       "1                                                NaN                        \n",
       "2                                                NaN                        \n",
       "3                                                NaN                        \n",
       "4                           Africa, port unspecified                        \n",
       "5                           Africa, port unspecified                        \n",
       "6                                 Cape Verde Islands                        \n",
       "7                           Africa, port unspecified                        \n",
       "8                           Africa, port unspecified                        \n",
       "9                       Gold Coast, port unspecified                        \n",
       "\n",
       "  Voyage itinerary imputed principal port of slave disembarkation (mjslptimp) place  \\\n",
       "0                                           Kingston                                  \n",
       "1                         Jamaica, place unspecified                                  \n",
       "2                                           Kingston                                  \n",
       "3                                         Port Royal                                  \n",
       "4                                  Newcastle (Nevis)                                  \n",
       "5                        Barbados, place unspecified                                  \n",
       "6                                           Kingston                                  \n",
       "7                                         Charleston                                  \n",
       "8                        Barbados, place unspecified                                  \n",
       "9                        Barbados, place unspecified                                  \n",
       "\n",
       "  VOYAGEID2  Captives arrived at 1st port  \\\n",
       "0       NaN                         283.0   \n",
       "1       NaN                           NaN   \n",
       "2       NaN                         130.0   \n",
       "3       NaN                         278.0   \n",
       "4       NaN                           NaN   \n",
       "5       NaN                         190.0   \n",
       "6       NaN                          72.0   \n",
       "7       NaN                           NaN   \n",
       "8       NaN                         200.0   \n",
       "9       NaN                         255.0   \n",
       "\n",
       "                           Captain's name  \n",
       "0                        Neale, Alexander  \n",
       "1  Selkirk, Alexander<br/> Forrest, Henry  \n",
       "2                        Nicholls, Philip  \n",
       "3                           Plummer, John  \n",
       "4                        Stretton, Joseph  \n",
       "5                             Scott, John  \n",
       "6      Banbury, John<br/> Copinger, James  \n",
       "7                         Poole, Nicholas  \n",
       "8         Shawe, John<br/> Martin, Joseph  \n",
       "9                       Williams, Charles  "
      ]
     },
     "execution_count": 10,
     "metadata": {},
     "output_type": "execute_result"
    }
   ],
   "source": [
    "df.head(10)"
   ]
  },
  {
   "cell_type": "code",
   "execution_count": null,
   "metadata": {
    "colab": {
     "base_uri": "https://localhost:8080/"
    },
    "executionInfo": {
     "elapsed": 237,
     "status": "ok",
     "timestamp": 1710170317863,
     "user": {
      "displayName": "Stefano R.",
      "userId": "13292509372930268929"
     },
     "user_tz": -60
    },
    "id": "jUFcwPjtF8pY",
    "outputId": "a9ebdea9-5dd3-45da-8c08-d1f1c95ef581"
   },
   "outputs": [
    {
     "data": {
      "text/plain": [
       "(36151, 9)"
      ]
     },
     "execution_count": 11,
     "metadata": {},
     "output_type": "execute_result"
    }
   ],
   "source": [
    "# Displaying the DataFrame dimensions\n",
    "df.shape"
   ]
  },
  {
   "cell_type": "code",
   "execution_count": null,
   "metadata": {
    "colab": {
     "base_uri": "https://localhost:8080/"
    },
    "executionInfo": {
     "elapsed": 197,
     "status": "ok",
     "timestamp": 1710170352711,
     "user": {
      "displayName": "Stefano R.",
      "userId": "13292509372930268929"
     },
     "user_tz": -60
    },
    "id": "ISg750nKGCEY",
    "outputId": "f558ad66-8387-489e-bc6e-ed27b441c258"
   },
   "outputs": [
    {
     "name": "stdout",
     "output_type": "stream",
     "text": [
      "Index(['Year of arrival at port of disembarkation', 'Voyage ID', 'Vessel name',\n",
      "       'Voyage itinerary imputed port where began (ptdepimp) place',\n",
      "       'Voyage itinerary imputed principal place of slave purchase (mjbyptimp) ',\n",
      "       'Voyage itinerary imputed principal port of slave disembarkation (mjslptimp) place',\n",
      "       'VOYAGEID2', 'Captives arrived at 1st port', 'Captain's name'],\n",
      "      dtype='object')\n"
     ]
    }
   ],
   "source": [
    "# Displaying the DataFrame column names\n",
    "column_names = df.columns\n",
    "print(column_names)"
   ]
  },
  {
   "cell_type": "code",
   "execution_count": null,
   "metadata": {
    "colab": {
     "base_uri": "https://localhost:8080/"
    },
    "executionInfo": {
     "elapsed": 210,
     "status": "ok",
     "timestamp": 1710170448808,
     "user": {
      "displayName": "Stefano R.",
      "userId": "13292509372930268929"
     },
     "user_tz": -60
    },
    "id": "JytIm8mCGKjQ",
    "outputId": "e3591c8a-772e-4615-cd34-d78e96e5928f"
   },
   "outputs": [
    {
     "name": "stdout",
     "output_type": "stream",
     "text": [
      "Index ) Column name\n",
      "0 ) Year of arrival at port of disembarkation\n",
      "1 ) Voyage ID\n",
      "2 ) Vessel name\n",
      "3 ) Voyage itinerary imputed port where began (ptdepimp) place\n",
      "4 ) Voyage itinerary imputed principal place of slave purchase (mjbyptimp) \n",
      "5 ) Voyage itinerary imputed principal port of slave disembarkation (mjslptimp) place\n",
      "6 ) VOYAGEID2\n",
      "7 ) Captives arrived at 1st port\n",
      "8 ) Captain's name\n"
     ]
    }
   ],
   "source": [
    "# Displaying the DataFrame column names with their corresponding Python index\n",
    "i=0\n",
    "print(\"Index ) Column name\")\n",
    "for name in column_names:\n",
    "    print(i,\")\",name)\n",
    "    i = i + 1"
   ]
  },
  {
   "cell_type": "code",
   "execution_count": null,
   "metadata": {
    "colab": {
     "base_uri": "https://localhost:8080/"
    },
    "executionInfo": {
     "elapsed": 3,
     "status": "ok",
     "timestamp": 1710170489583,
     "user": {
      "displayName": "Stefano R.",
      "userId": "13292509372930268929"
     },
     "user_tz": -60
    },
    "id": "tTrR1nYLGMTR",
    "outputId": "d66d1a7c-1d84-4798-c6a6-4116205bdaa1"
   },
   "outputs": [
    {
     "name": "stdout",
     "output_type": "stream",
     "text": [
      "True\n"
     ]
    }
   ],
   "source": [
    "# Checking if the values stored in VOYAGE ID are unique\n",
    "voyage_id = df.iloc[:,1]\n",
    "print(voyage_id.is_unique)"
   ]
  },
  {
   "cell_type": "code",
   "execution_count": null,
   "metadata": {
    "colab": {
     "base_uri": "https://localhost:8080/"
    },
    "executionInfo": {
     "elapsed": 356,
     "status": "ok",
     "timestamp": 1710170629080,
     "user": {
      "displayName": "Stefano R.",
      "userId": "13292509372930268929"
     },
     "user_tz": -60
    },
    "id": "jiex9JQMGr-I",
    "outputId": "f20514f8-186c-4e14-e583-415cead04628"
   },
   "outputs": [
    {
     "name": "stdout",
     "output_type": "stream",
     "text": [
      "0        False\n",
      "1        False\n",
      "2        False\n",
      "3        False\n",
      "4        False\n",
      "         ...  \n",
      "36146    False\n",
      "36147    False\n",
      "36148    False\n",
      "36149    False\n",
      "36150    False\n",
      "Name: Year of arrival at port of disembarkation, Length: 36151, dtype: bool\n",
      "Total number of NaNs in the first column: 1\n"
     ]
    }
   ],
   "source": [
    "# Checking if there are NaNs in the year column\n",
    "arr_year = df.iloc[:,0]\n",
    "arr_year_na = arr_year.isna()\n",
    "print(arr_year_na)\n",
    "print('Total number of NaNs in the first column:',arr_year_na.sum())"
   ]
  },
  {
   "cell_type": "code",
   "execution_count": null,
   "metadata": {
    "colab": {
     "base_uri": "https://localhost:8080/",
     "height": 98
    },
    "executionInfo": {
     "elapsed": 4,
     "status": "ok",
     "timestamp": 1710170633419,
     "user": {
      "displayName": "Stefano R.",
      "userId": "13292509372930268929"
     },
     "user_tz": -60
    },
    "id": "HW5OpjF6GUDr",
    "outputId": "26355669-af6d-4ef8-c4b1-5e037600d8a9"
   },
   "outputs": [
    {
     "data": {
      "application/vnd.google.colaboratory.intrinsic+json": {
       "repr_error": "0",
       "type": "dataframe"
      },
      "text/html": [
       "\n",
       "  <div id=\"df-6475f68a-0aa1-411b-936c-59fceb64d11f\" class=\"colab-df-container\">\n",
       "    <div>\n",
       "<style scoped>\n",
       "    .dataframe tbody tr th:only-of-type {\n",
       "        vertical-align: middle;\n",
       "    }\n",
       "\n",
       "    .dataframe tbody tr th {\n",
       "        vertical-align: top;\n",
       "    }\n",
       "\n",
       "    .dataframe thead th {\n",
       "        text-align: right;\n",
       "    }\n",
       "</style>\n",
       "<table border=\"1\" class=\"dataframe\">\n",
       "  <thead>\n",
       "    <tr style=\"text-align: right;\">\n",
       "      <th></th>\n",
       "      <th>Year of arrival at port of disembarkation</th>\n",
       "      <th>Voyage ID</th>\n",
       "      <th>Vessel name</th>\n",
       "      <th>Voyage itinerary imputed port where began (ptdepimp) place</th>\n",
       "      <th>Voyage itinerary imputed principal place of slave purchase (mjbyptimp)</th>\n",
       "      <th>Voyage itinerary imputed principal port of slave disembarkation (mjslptimp) place</th>\n",
       "      <th>VOYAGEID2</th>\n",
       "      <th>Captives arrived at 1st port</th>\n",
       "      <th>Captain's name</th>\n",
       "    </tr>\n",
       "  </thead>\n",
       "  <tbody>\n",
       "    <tr>\n",
       "      <th>32248</th>\n",
       "      <td>NaN</td>\n",
       "      <td>91909</td>\n",
       "      <td>Kitty</td>\n",
       "      <td>Liverpool</td>\n",
       "      <td>NaN</td>\n",
       "      <td>NaN</td>\n",
       "      <td>NaN</td>\n",
       "      <td>NaN</td>\n",
       "      <td>Fisher, Joseph</td>\n",
       "    </tr>\n",
       "  </tbody>\n",
       "</table>\n",
       "</div>\n",
       "    <div class=\"colab-df-buttons\">\n",
       "\n",
       "  <div class=\"colab-df-container\">\n",
       "    <button class=\"colab-df-convert\" onclick=\"convertToInteractive('df-6475f68a-0aa1-411b-936c-59fceb64d11f')\"\n",
       "            title=\"Convert this dataframe to an interactive table.\"\n",
       "            style=\"display:none;\">\n",
       "\n",
       "  <svg xmlns=\"http://www.w3.org/2000/svg\" height=\"24px\" viewBox=\"0 -960 960 960\">\n",
       "    <path d=\"M120-120v-720h720v720H120Zm60-500h600v-160H180v160Zm220 220h160v-160H400v160Zm0 220h160v-160H400v160ZM180-400h160v-160H180v160Zm440 0h160v-160H620v160ZM180-180h160v-160H180v160Zm440 0h160v-160H620v160Z\"/>\n",
       "  </svg>\n",
       "    </button>\n",
       "\n",
       "  <style>\n",
       "    .colab-df-container {\n",
       "      display:flex;\n",
       "      gap: 12px;\n",
       "    }\n",
       "\n",
       "    .colab-df-convert {\n",
       "      background-color: #E8F0FE;\n",
       "      border: none;\n",
       "      border-radius: 50%;\n",
       "      cursor: pointer;\n",
       "      display: none;\n",
       "      fill: #1967D2;\n",
       "      height: 32px;\n",
       "      padding: 0 0 0 0;\n",
       "      width: 32px;\n",
       "    }\n",
       "\n",
       "    .colab-df-convert:hover {\n",
       "      background-color: #E2EBFA;\n",
       "      box-shadow: 0px 1px 2px rgba(60, 64, 67, 0.3), 0px 1px 3px 1px rgba(60, 64, 67, 0.15);\n",
       "      fill: #174EA6;\n",
       "    }\n",
       "\n",
       "    .colab-df-buttons div {\n",
       "      margin-bottom: 4px;\n",
       "    }\n",
       "\n",
       "    [theme=dark] .colab-df-convert {\n",
       "      background-color: #3B4455;\n",
       "      fill: #D2E3FC;\n",
       "    }\n",
       "\n",
       "    [theme=dark] .colab-df-convert:hover {\n",
       "      background-color: #434B5C;\n",
       "      box-shadow: 0px 1px 3px 1px rgba(0, 0, 0, 0.15);\n",
       "      filter: drop-shadow(0px 1px 2px rgba(0, 0, 0, 0.3));\n",
       "      fill: #FFFFFF;\n",
       "    }\n",
       "  </style>\n",
       "\n",
       "    <script>\n",
       "      const buttonEl =\n",
       "        document.querySelector('#df-6475f68a-0aa1-411b-936c-59fceb64d11f button.colab-df-convert');\n",
       "      buttonEl.style.display =\n",
       "        google.colab.kernel.accessAllowed ? 'block' : 'none';\n",
       "\n",
       "      async function convertToInteractive(key) {\n",
       "        const element = document.querySelector('#df-6475f68a-0aa1-411b-936c-59fceb64d11f');\n",
       "        const dataTable =\n",
       "          await google.colab.kernel.invokeFunction('convertToInteractive',\n",
       "                                                    [key], {});\n",
       "        if (!dataTable) return;\n",
       "\n",
       "        const docLinkHtml = 'Like what you see? Visit the ' +\n",
       "          '<a target=\"_blank\" href=https://colab.research.google.com/notebooks/data_table.ipynb>data table notebook</a>'\n",
       "          + ' to learn more about interactive tables.';\n",
       "        element.innerHTML = '';\n",
       "        dataTable['output_type'] = 'display_data';\n",
       "        await google.colab.output.renderOutput(dataTable, element);\n",
       "        const docLink = document.createElement('div');\n",
       "        docLink.innerHTML = docLinkHtml;\n",
       "        element.appendChild(docLink);\n",
       "      }\n",
       "    </script>\n",
       "  </div>\n",
       "\n",
       "    </div>\n",
       "  </div>\n"
      ],
      "text/plain": [
       "       Year of arrival at port of disembarkation  Voyage ID Vessel name  \\\n",
       "32248                                        NaN      91909       Kitty   \n",
       "\n",
       "      Voyage itinerary imputed port where began (ptdepimp) place  \\\n",
       "32248                                          Liverpool           \n",
       "\n",
       "      Voyage itinerary imputed principal place of slave purchase (mjbyptimp)   \\\n",
       "32248                                                NaN                        \n",
       "\n",
       "      Voyage itinerary imputed principal port of slave disembarkation (mjslptimp) place  \\\n",
       "32248                                                NaN                                  \n",
       "\n",
       "      VOYAGEID2  Captives arrived at 1st port  Captain's name  \n",
       "32248       NaN                           NaN  Fisher, Joseph  "
      ]
     },
     "execution_count": 20,
     "metadata": {},
     "output_type": "execute_result"
    }
   ],
   "source": [
    "# Localising the row containing NaN in the year column\n",
    "df[arr_year_na]"
   ]
  },
  {
   "cell_type": "code",
   "execution_count": null,
   "metadata": {
    "colab": {
     "base_uri": "https://localhost:8080/"
    },
    "executionInfo": {
     "elapsed": 441,
     "status": "ok",
     "timestamp": 1710170665000,
     "user": {
      "displayName": "Stefano R.",
      "userId": "13292509372930268929"
     },
     "user_tz": -60
    },
    "id": "zNQgU5nFDqXk",
    "outputId": "9b9fce09-ec9c-4bcc-ac87-0f05b6df08ab"
   },
   "outputs": [
    {
     "name": "stdout",
     "output_type": "stream",
     "text": [
      "Year of arrival at port of disembarkation has 1 NaN\n",
      "Voyage ID has 0 NaN\n",
      "Vessel name has 1614 NaN\n",
      "Voyage itinerary imputed port where began (ptdepimp) place has 4508 NaN\n",
      "Voyage itinerary imputed principal place of slave purchase (mjbyptimp)  has 2210 NaN\n",
      "Voyage itinerary imputed principal port of slave disembarkation (mjslptimp) place has 4191 NaN\n",
      "VOYAGEID2 has 36101 NaN\n",
      "Captives arrived at 1st port has 17743 NaN\n",
      "Captain's name has 4028 NaN\n"
     ]
    }
   ],
   "source": [
    "# Repeating the same procedure for all the column\n",
    "for column_name in column_names:\n",
    "    selected_column = df[column_name]\n",
    "    selected_column_na = selected_column.isna()\n",
    "    n_nan = selected_column_na.sum()\n",
    "    print(column_name,'has',n_nan,'NaN')"
   ]
  },
  {
   "cell_type": "code",
   "execution_count": null,
   "metadata": {
    "colab": {
     "base_uri": "https://localhost:8080/",
     "height": 258
    },
    "executionInfo": {
     "elapsed": 310,
     "status": "ok",
     "timestamp": 1710170720372,
     "user": {
      "displayName": "Stefano R.",
      "userId": "13292509372930268929"
     },
     "user_tz": -60
    },
    "id": "bg_-RMlBHWvd",
    "outputId": "16778ee7-e2cf-416b-895a-271f760535c1"
   },
   "outputs": [
    {
     "data": {
      "application/vnd.google.colaboratory.intrinsic+json": {
       "summary": "{\n  \"name\": \"cleaned_df_step1\",\n  \"rows\": 36151,\n  \"fields\": [\n    {\n      \"column\": \"Year of arrival at port of disembarkation\",\n      \"properties\": {\n        \"dtype\": \"number\",\n        \"std\": 59.23521848623553,\n        \"min\": 1514.0,\n        \"max\": 1866.0,\n        \"num_unique_values\": 337,\n        \"samples\": [\n          1764.0,\n          1671.0,\n          1775.0\n        ],\n        \"semantic_type\": \"\",\n        \"description\": \"\"\n      }\n    },\n    {\n      \"column\": \"Voyage ID\",\n      \"properties\": {\n        \"dtype\": \"number\",\n        \"std\": 72670,\n        \"min\": 1,\n        \"max\": 900237,\n        \"num_unique_values\": 36151,\n        \"samples\": [\n          28023,\n          3934,\n          16033\n        ],\n        \"semantic_type\": \"\",\n        \"description\": \"\"\n      }\n    },\n    {\n      \"column\": \"Vessel name\",\n      \"properties\": {\n        \"dtype\": \"category\",\n        \"num_unique_values\": 9496,\n        \"samples\": [\n          \"Espanhola\",\n          \"NS de la O y S Josef\",\n          \"Mayflower\"\n        ],\n        \"semantic_type\": \"\",\n        \"description\": \"\"\n      }\n    },\n    {\n      \"column\": \"Voyage itinerary imputed port where began (ptdepimp) place\",\n      \"properties\": {\n        \"dtype\": \"category\",\n        \"num_unique_values\": 241,\n        \"samples\": [\n          \"Nantes\",\n          \"La Rochelle\",\n          \"Rio de la Plata, port unspecified\"\n        ],\n        \"semantic_type\": \"\",\n        \"description\": \"\"\n      }\n    },\n    {\n      \"column\": \"Voyage itinerary imputed principal place of slave purchase (mjbyptimp) \",\n      \"properties\": {\n        \"dtype\": \"category\",\n        \"num_unique_values\": 188,\n        \"samples\": [\n          \"Gold Coast from Kormatine to Accra\",\n          \"French Africa (Goree or Senegal)\",\n          \"Banana Islands\"\n        ],\n        \"semantic_type\": \"\",\n        \"description\": \"\"\n      }\n    },\n    {\n      \"column\": \"Voyage itinerary imputed principal port of slave disembarkation (mjslptimp) place\",\n      \"properties\": {\n        \"dtype\": \"category\",\n        \"num_unique_values\": 280,\n        \"samples\": [\n          \"Cape of Good Hope\",\n          \"New Spain, port unspecified\",\n          \"Princes Island\"\n        ],\n        \"semantic_type\": \"\",\n        \"description\": \"\"\n      }\n    },\n    {\n      \"column\": \"Captives arrived at 1st port\",\n      \"properties\": {\n        \"dtype\": \"number\",\n        \"std\": 158.751904846887,\n        \"min\": 0.0,\n        \"max\": 1700.0,\n        \"num_unique_values\": 817,\n        \"samples\": [\n          284.0,\n          68.0,\n          281.0\n        ],\n        \"semantic_type\": \"\",\n        \"description\": \"\"\n      }\n    },\n    {\n      \"column\": \"Captain's name\",\n      \"properties\": {\n        \"dtype\": \"string\",\n        \"num_unique_values\": 18977,\n        \"samples\": [\n          \"Lagere, Pierre-Joseph\",\n          \"Clark, James<br/> Duncan\",\n          \"Guedes, Manoel Jos\\u00e9 da Silva<br/> Neves, Jos\\u00e9 da Silva\"\n        ],\n        \"semantic_type\": \"\",\n        \"description\": \"\"\n      }\n    }\n  ]\n}",
       "type": "dataframe",
       "variable_name": "cleaned_df_step1"
      },
      "text/html": [
       "\n",
       "  <div id=\"df-fe0fc8e8-32c4-467d-8739-dc09fd2d2588\" class=\"colab-df-container\">\n",
       "    <div>\n",
       "<style scoped>\n",
       "    .dataframe tbody tr th:only-of-type {\n",
       "        vertical-align: middle;\n",
       "    }\n",
       "\n",
       "    .dataframe tbody tr th {\n",
       "        vertical-align: top;\n",
       "    }\n",
       "\n",
       "    .dataframe thead th {\n",
       "        text-align: right;\n",
       "    }\n",
       "</style>\n",
       "<table border=\"1\" class=\"dataframe\">\n",
       "  <thead>\n",
       "    <tr style=\"text-align: right;\">\n",
       "      <th></th>\n",
       "      <th>Year of arrival at port of disembarkation</th>\n",
       "      <th>Voyage ID</th>\n",
       "      <th>Vessel name</th>\n",
       "      <th>Voyage itinerary imputed port where began (ptdepimp) place</th>\n",
       "      <th>Voyage itinerary imputed principal place of slave purchase (mjbyptimp)</th>\n",
       "      <th>Voyage itinerary imputed principal port of slave disembarkation (mjslptimp) place</th>\n",
       "      <th>Captives arrived at 1st port</th>\n",
       "      <th>Captain's name</th>\n",
       "    </tr>\n",
       "  </thead>\n",
       "  <tbody>\n",
       "    <tr>\n",
       "      <th>0</th>\n",
       "      <td>1714.0</td>\n",
       "      <td>16109</td>\n",
       "      <td>Freeke Gally</td>\n",
       "      <td>Bristol</td>\n",
       "      <td>NaN</td>\n",
       "      <td>Kingston</td>\n",
       "      <td>283.0</td>\n",
       "      <td>Neale, Alexander</td>\n",
       "    </tr>\n",
       "    <tr>\n",
       "      <th>1</th>\n",
       "      <td>1713.0</td>\n",
       "      <td>16110</td>\n",
       "      <td>Greyhound Gally</td>\n",
       "      <td>Bristol</td>\n",
       "      <td>NaN</td>\n",
       "      <td>Jamaica, place unspecified</td>\n",
       "      <td>NaN</td>\n",
       "      <td>Selkirk, Alexander&lt;br/&gt; Forrest, Henry</td>\n",
       "    </tr>\n",
       "    <tr>\n",
       "      <th>2</th>\n",
       "      <td>1714.0</td>\n",
       "      <td>16111</td>\n",
       "      <td>Jacob</td>\n",
       "      <td>Bristol</td>\n",
       "      <td>NaN</td>\n",
       "      <td>Kingston</td>\n",
       "      <td>130.0</td>\n",
       "      <td>Nicholls, Philip</td>\n",
       "    </tr>\n",
       "    <tr>\n",
       "      <th>3</th>\n",
       "      <td>1714.0</td>\n",
       "      <td>16112</td>\n",
       "      <td>Jason Gally</td>\n",
       "      <td>Bristol</td>\n",
       "      <td>NaN</td>\n",
       "      <td>Port Royal</td>\n",
       "      <td>278.0</td>\n",
       "      <td>Plummer, John</td>\n",
       "    </tr>\n",
       "    <tr>\n",
       "      <th>4</th>\n",
       "      <td>1713.0</td>\n",
       "      <td>16113</td>\n",
       "      <td>Lawford Gally</td>\n",
       "      <td>Bristol</td>\n",
       "      <td>Africa, port unspecified</td>\n",
       "      <td>Newcastle (Nevis)</td>\n",
       "      <td>NaN</td>\n",
       "      <td>Stretton, Joseph</td>\n",
       "    </tr>\n",
       "  </tbody>\n",
       "</table>\n",
       "</div>\n",
       "    <div class=\"colab-df-buttons\">\n",
       "\n",
       "  <div class=\"colab-df-container\">\n",
       "    <button class=\"colab-df-convert\" onclick=\"convertToInteractive('df-fe0fc8e8-32c4-467d-8739-dc09fd2d2588')\"\n",
       "            title=\"Convert this dataframe to an interactive table.\"\n",
       "            style=\"display:none;\">\n",
       "\n",
       "  <svg xmlns=\"http://www.w3.org/2000/svg\" height=\"24px\" viewBox=\"0 -960 960 960\">\n",
       "    <path d=\"M120-120v-720h720v720H120Zm60-500h600v-160H180v160Zm220 220h160v-160H400v160Zm0 220h160v-160H400v160ZM180-400h160v-160H180v160Zm440 0h160v-160H620v160ZM180-180h160v-160H180v160Zm440 0h160v-160H620v160Z\"/>\n",
       "  </svg>\n",
       "    </button>\n",
       "\n",
       "  <style>\n",
       "    .colab-df-container {\n",
       "      display:flex;\n",
       "      gap: 12px;\n",
       "    }\n",
       "\n",
       "    .colab-df-convert {\n",
       "      background-color: #E8F0FE;\n",
       "      border: none;\n",
       "      border-radius: 50%;\n",
       "      cursor: pointer;\n",
       "      display: none;\n",
       "      fill: #1967D2;\n",
       "      height: 32px;\n",
       "      padding: 0 0 0 0;\n",
       "      width: 32px;\n",
       "    }\n",
       "\n",
       "    .colab-df-convert:hover {\n",
       "      background-color: #E2EBFA;\n",
       "      box-shadow: 0px 1px 2px rgba(60, 64, 67, 0.3), 0px 1px 3px 1px rgba(60, 64, 67, 0.15);\n",
       "      fill: #174EA6;\n",
       "    }\n",
       "\n",
       "    .colab-df-buttons div {\n",
       "      margin-bottom: 4px;\n",
       "    }\n",
       "\n",
       "    [theme=dark] .colab-df-convert {\n",
       "      background-color: #3B4455;\n",
       "      fill: #D2E3FC;\n",
       "    }\n",
       "\n",
       "    [theme=dark] .colab-df-convert:hover {\n",
       "      background-color: #434B5C;\n",
       "      box-shadow: 0px 1px 3px 1px rgba(0, 0, 0, 0.15);\n",
       "      filter: drop-shadow(0px 1px 2px rgba(0, 0, 0, 0.3));\n",
       "      fill: #FFFFFF;\n",
       "    }\n",
       "  </style>\n",
       "\n",
       "    <script>\n",
       "      const buttonEl =\n",
       "        document.querySelector('#df-fe0fc8e8-32c4-467d-8739-dc09fd2d2588 button.colab-df-convert');\n",
       "      buttonEl.style.display =\n",
       "        google.colab.kernel.accessAllowed ? 'block' : 'none';\n",
       "\n",
       "      async function convertToInteractive(key) {\n",
       "        const element = document.querySelector('#df-fe0fc8e8-32c4-467d-8739-dc09fd2d2588');\n",
       "        const dataTable =\n",
       "          await google.colab.kernel.invokeFunction('convertToInteractive',\n",
       "                                                    [key], {});\n",
       "        if (!dataTable) return;\n",
       "\n",
       "        const docLinkHtml = 'Like what you see? Visit the ' +\n",
       "          '<a target=\"_blank\" href=https://colab.research.google.com/notebooks/data_table.ipynb>data table notebook</a>'\n",
       "          + ' to learn more about interactive tables.';\n",
       "        element.innerHTML = '';\n",
       "        dataTable['output_type'] = 'display_data';\n",
       "        await google.colab.output.renderOutput(dataTable, element);\n",
       "        const docLink = document.createElement('div');\n",
       "        docLink.innerHTML = docLinkHtml;\n",
       "        element.appendChild(docLink);\n",
       "      }\n",
       "    </script>\n",
       "  </div>\n",
       "\n",
       "\n",
       "<div id=\"df-61f2642e-b946-42dd-91e4-10b27451300a\">\n",
       "  <button class=\"colab-df-quickchart\" onclick=\"quickchart('df-61f2642e-b946-42dd-91e4-10b27451300a')\"\n",
       "            title=\"Suggest charts\"\n",
       "            style=\"display:none;\">\n",
       "\n",
       "<svg xmlns=\"http://www.w3.org/2000/svg\" height=\"24px\"viewBox=\"0 0 24 24\"\n",
       "     width=\"24px\">\n",
       "    <g>\n",
       "        <path d=\"M19 3H5c-1.1 0-2 .9-2 2v14c0 1.1.9 2 2 2h14c1.1 0 2-.9 2-2V5c0-1.1-.9-2-2-2zM9 17H7v-7h2v7zm4 0h-2V7h2v10zm4 0h-2v-4h2v4z\"/>\n",
       "    </g>\n",
       "</svg>\n",
       "  </button>\n",
       "\n",
       "<style>\n",
       "  .colab-df-quickchart {\n",
       "      --bg-color: #E8F0FE;\n",
       "      --fill-color: #1967D2;\n",
       "      --hover-bg-color: #E2EBFA;\n",
       "      --hover-fill-color: #174EA6;\n",
       "      --disabled-fill-color: #AAA;\n",
       "      --disabled-bg-color: #DDD;\n",
       "  }\n",
       "\n",
       "  [theme=dark] .colab-df-quickchart {\n",
       "      --bg-color: #3B4455;\n",
       "      --fill-color: #D2E3FC;\n",
       "      --hover-bg-color: #434B5C;\n",
       "      --hover-fill-color: #FFFFFF;\n",
       "      --disabled-bg-color: #3B4455;\n",
       "      --disabled-fill-color: #666;\n",
       "  }\n",
       "\n",
       "  .colab-df-quickchart {\n",
       "    background-color: var(--bg-color);\n",
       "    border: none;\n",
       "    border-radius: 50%;\n",
       "    cursor: pointer;\n",
       "    display: none;\n",
       "    fill: var(--fill-color);\n",
       "    height: 32px;\n",
       "    padding: 0;\n",
       "    width: 32px;\n",
       "  }\n",
       "\n",
       "  .colab-df-quickchart:hover {\n",
       "    background-color: var(--hover-bg-color);\n",
       "    box-shadow: 0 1px 2px rgba(60, 64, 67, 0.3), 0 1px 3px 1px rgba(60, 64, 67, 0.15);\n",
       "    fill: var(--button-hover-fill-color);\n",
       "  }\n",
       "\n",
       "  .colab-df-quickchart-complete:disabled,\n",
       "  .colab-df-quickchart-complete:disabled:hover {\n",
       "    background-color: var(--disabled-bg-color);\n",
       "    fill: var(--disabled-fill-color);\n",
       "    box-shadow: none;\n",
       "  }\n",
       "\n",
       "  .colab-df-spinner {\n",
       "    border: 2px solid var(--fill-color);\n",
       "    border-color: transparent;\n",
       "    border-bottom-color: var(--fill-color);\n",
       "    animation:\n",
       "      spin 1s steps(1) infinite;\n",
       "  }\n",
       "\n",
       "  @keyframes spin {\n",
       "    0% {\n",
       "      border-color: transparent;\n",
       "      border-bottom-color: var(--fill-color);\n",
       "      border-left-color: var(--fill-color);\n",
       "    }\n",
       "    20% {\n",
       "      border-color: transparent;\n",
       "      border-left-color: var(--fill-color);\n",
       "      border-top-color: var(--fill-color);\n",
       "    }\n",
       "    30% {\n",
       "      border-color: transparent;\n",
       "      border-left-color: var(--fill-color);\n",
       "      border-top-color: var(--fill-color);\n",
       "      border-right-color: var(--fill-color);\n",
       "    }\n",
       "    40% {\n",
       "      border-color: transparent;\n",
       "      border-right-color: var(--fill-color);\n",
       "      border-top-color: var(--fill-color);\n",
       "    }\n",
       "    60% {\n",
       "      border-color: transparent;\n",
       "      border-right-color: var(--fill-color);\n",
       "    }\n",
       "    80% {\n",
       "      border-color: transparent;\n",
       "      border-right-color: var(--fill-color);\n",
       "      border-bottom-color: var(--fill-color);\n",
       "    }\n",
       "    90% {\n",
       "      border-color: transparent;\n",
       "      border-bottom-color: var(--fill-color);\n",
       "    }\n",
       "  }\n",
       "</style>\n",
       "\n",
       "  <script>\n",
       "    async function quickchart(key) {\n",
       "      const quickchartButtonEl =\n",
       "        document.querySelector('#' + key + ' button');\n",
       "      quickchartButtonEl.disabled = true;  // To prevent multiple clicks.\n",
       "      quickchartButtonEl.classList.add('colab-df-spinner');\n",
       "      try {\n",
       "        const charts = await google.colab.kernel.invokeFunction(\n",
       "            'suggestCharts', [key], {});\n",
       "      } catch (error) {\n",
       "        console.error('Error during call to suggestCharts:', error);\n",
       "      }\n",
       "      quickchartButtonEl.classList.remove('colab-df-spinner');\n",
       "      quickchartButtonEl.classList.add('colab-df-quickchart-complete');\n",
       "    }\n",
       "    (() => {\n",
       "      let quickchartButtonEl =\n",
       "        document.querySelector('#df-61f2642e-b946-42dd-91e4-10b27451300a button');\n",
       "      quickchartButtonEl.style.display =\n",
       "        google.colab.kernel.accessAllowed ? 'block' : 'none';\n",
       "    })();\n",
       "  </script>\n",
       "</div>\n",
       "    </div>\n",
       "  </div>\n"
      ],
      "text/plain": [
       "   Year of arrival at port of disembarkation  Voyage ID      Vessel name  \\\n",
       "0                                     1714.0      16109     Freeke Gally   \n",
       "1                                     1713.0      16110  Greyhound Gally   \n",
       "2                                     1714.0      16111            Jacob   \n",
       "3                                     1714.0      16112      Jason Gally   \n",
       "4                                     1713.0      16113    Lawford Gally   \n",
       "\n",
       "  Voyage itinerary imputed port where began (ptdepimp) place  \\\n",
       "0                                            Bristol           \n",
       "1                                            Bristol           \n",
       "2                                            Bristol           \n",
       "3                                            Bristol           \n",
       "4                                            Bristol           \n",
       "\n",
       "  Voyage itinerary imputed principal place of slave purchase (mjbyptimp)   \\\n",
       "0                                                NaN                        \n",
       "1                                                NaN                        \n",
       "2                                                NaN                        \n",
       "3                                                NaN                        \n",
       "4                           Africa, port unspecified                        \n",
       "\n",
       "  Voyage itinerary imputed principal port of slave disembarkation (mjslptimp) place  \\\n",
       "0                                           Kingston                                  \n",
       "1                         Jamaica, place unspecified                                  \n",
       "2                                           Kingston                                  \n",
       "3                                         Port Royal                                  \n",
       "4                                  Newcastle (Nevis)                                  \n",
       "\n",
       "   Captives arrived at 1st port                          Captain's name  \n",
       "0                         283.0                        Neale, Alexander  \n",
       "1                           NaN  Selkirk, Alexander<br/> Forrest, Henry  \n",
       "2                         130.0                        Nicholls, Philip  \n",
       "3                         278.0                           Plummer, John  \n",
       "4                           NaN                        Stretton, Joseph  "
      ]
     },
     "execution_count": 23,
     "metadata": {},
     "output_type": "execute_result"
    }
   ],
   "source": [
    "# === Clasning the data ===\n",
    "\n",
    "# Select our target columns for clearning the data\n",
    "column_to_remove = 'VOYAGEID2'\n",
    "column_to_remove_nan = 'Captives arrived at 1st port'\n",
    "\n",
    "# Perform Data Cleaning visualising the result step by step\n",
    "# step1, removing column VOYAGEID2 from the DataFrame\n",
    "cleaned_df_step1 = df.drop(column_to_remove,axis=1)\n",
    "cleaned_df_step1.head(5)"
   ]
  },
  {
   "cell_type": "code",
   "execution_count": null,
   "metadata": {
    "colab": {
     "base_uri": "https://localhost:8080/",
     "height": 293
    },
    "executionInfo": {
     "elapsed": 3,
     "status": "ok",
     "timestamp": 1710170739660,
     "user": {
      "displayName": "Stefano R.",
      "userId": "13292509372930268929"
     },
     "user_tz": -60
    },
    "id": "oWqYyyw_HkOI",
    "outputId": "93f280f2-7e8c-4e2d-a02b-323eff10438b"
   },
   "outputs": [
    {
     "data": {
      "application/vnd.google.colaboratory.intrinsic+json": {
       "summary": "{\n  \"name\": \"cleaned_df_step2\",\n  \"rows\": 18408,\n  \"fields\": [\n    {\n      \"column\": \"Year of arrival at port of disembarkation\",\n      \"properties\": {\n        \"dtype\": \"number\",\n        \"std\": 52.83643003667832,\n        \"min\": 1520.0,\n        \"max\": 1866.0,\n        \"num_unique_values\": 298,\n        \"samples\": [\n          1596.0,\n          1844.0,\n          1655.0\n        ],\n        \"semantic_type\": \"\",\n        \"description\": \"\"\n      }\n    },\n    {\n      \"column\": \"Voyage ID\",\n      \"properties\": {\n        \"dtype\": \"number\",\n        \"std\": 35740,\n        \"min\": 1,\n        \"max\": 900192,\n        \"num_unique_values\": 18408,\n        \"samples\": [\n          27080,\n          75432,\n          795\n        ],\n        \"semantic_type\": \"\",\n        \"description\": \"\"\n      }\n    },\n    {\n      \"column\": \"Vessel name\",\n      \"properties\": {\n        \"dtype\": \"category\",\n        \"num_unique_values\": 5825,\n        \"samples\": [\n          \"Amadanela\",\n          \"Brooks\",\n          \"Sea Horse\"\n        ],\n        \"semantic_type\": \"\",\n        \"description\": \"\"\n      }\n    },\n    {\n      \"column\": \"Voyage itinerary imputed port where began (ptdepimp) place\",\n      \"properties\": {\n        \"dtype\": \"category\",\n        \"num_unique_values\": 175,\n        \"samples\": [\n          \"Vigo\",\n          \"Saint-Louis\",\n          \"Danish West Indies, colony unspecified\"\n        ],\n        \"semantic_type\": \"\",\n        \"description\": \"\"\n      }\n    },\n    {\n      \"column\": \"Voyage itinerary imputed principal place of slave purchase (mjbyptimp) \",\n      \"properties\": {\n        \"dtype\": \"category\",\n        \"num_unique_values\": 160,\n        \"samples\": [\n          \"Rio Nunez\",\n          \"Lay\",\n          \"Alecuba\"\n        ],\n        \"semantic_type\": \"\",\n        \"description\": \"\"\n      }\n    },\n    {\n      \"column\": \"Voyage itinerary imputed principal port of slave disembarkation (mjslptimp) place\",\n      \"properties\": {\n        \"dtype\": \"category\",\n        \"num_unique_values\": 239,\n        \"samples\": [\n          \"L\\u00e9ogane\",\n          \"Charleston\",\n          \"France, place unspecified\"\n        ],\n        \"semantic_type\": \"\",\n        \"description\": \"\"\n      }\n    },\n    {\n      \"column\": \"Captives arrived at 1st port\",\n      \"properties\": {\n        \"dtype\": \"number\",\n        \"std\": 158.75190484688696,\n        \"min\": 0.0,\n        \"max\": 1700.0,\n        \"num_unique_values\": 817,\n        \"samples\": [\n          284.0,\n          68.0,\n          281.0\n        ],\n        \"semantic_type\": \"\",\n        \"description\": \"\"\n      }\n    },\n    {\n      \"column\": \"Captain's name\",\n      \"properties\": {\n        \"dtype\": \"string\",\n        \"num_unique_values\": 10829,\n        \"samples\": [\n          \"Gijon\",\n          \"Hallden, Edward\",\n          \"Peers, Joseph\"\n        ],\n        \"semantic_type\": \"\",\n        \"description\": \"\"\n      }\n    }\n  ]\n}",
       "type": "dataframe",
       "variable_name": "cleaned_df_step2"
      },
      "text/html": [
       "\n",
       "  <div id=\"df-526e58b5-298f-49cf-89de-0231f5ffc604\" class=\"colab-df-container\">\n",
       "    <div>\n",
       "<style scoped>\n",
       "    .dataframe tbody tr th:only-of-type {\n",
       "        vertical-align: middle;\n",
       "    }\n",
       "\n",
       "    .dataframe tbody tr th {\n",
       "        vertical-align: top;\n",
       "    }\n",
       "\n",
       "    .dataframe thead th {\n",
       "        text-align: right;\n",
       "    }\n",
       "</style>\n",
       "<table border=\"1\" class=\"dataframe\">\n",
       "  <thead>\n",
       "    <tr style=\"text-align: right;\">\n",
       "      <th></th>\n",
       "      <th>Year of arrival at port of disembarkation</th>\n",
       "      <th>Voyage ID</th>\n",
       "      <th>Vessel name</th>\n",
       "      <th>Voyage itinerary imputed port where began (ptdepimp) place</th>\n",
       "      <th>Voyage itinerary imputed principal place of slave purchase (mjbyptimp)</th>\n",
       "      <th>Voyage itinerary imputed principal port of slave disembarkation (mjslptimp) place</th>\n",
       "      <th>Captives arrived at 1st port</th>\n",
       "      <th>Captain's name</th>\n",
       "    </tr>\n",
       "  </thead>\n",
       "  <tbody>\n",
       "    <tr>\n",
       "      <th>0</th>\n",
       "      <td>1714.0</td>\n",
       "      <td>16109</td>\n",
       "      <td>Freeke Gally</td>\n",
       "      <td>Bristol</td>\n",
       "      <td>NaN</td>\n",
       "      <td>Kingston</td>\n",
       "      <td>283.0</td>\n",
       "      <td>Neale, Alexander</td>\n",
       "    </tr>\n",
       "    <tr>\n",
       "      <th>2</th>\n",
       "      <td>1714.0</td>\n",
       "      <td>16111</td>\n",
       "      <td>Jacob</td>\n",
       "      <td>Bristol</td>\n",
       "      <td>NaN</td>\n",
       "      <td>Kingston</td>\n",
       "      <td>130.0</td>\n",
       "      <td>Nicholls, Philip</td>\n",
       "    </tr>\n",
       "    <tr>\n",
       "      <th>3</th>\n",
       "      <td>1714.0</td>\n",
       "      <td>16112</td>\n",
       "      <td>Jason Gally</td>\n",
       "      <td>Bristol</td>\n",
       "      <td>NaN</td>\n",
       "      <td>Port Royal</td>\n",
       "      <td>278.0</td>\n",
       "      <td>Plummer, John</td>\n",
       "    </tr>\n",
       "    <tr>\n",
       "      <th>5</th>\n",
       "      <td>1714.0</td>\n",
       "      <td>16114</td>\n",
       "      <td>Mercy Gally</td>\n",
       "      <td>Bristol</td>\n",
       "      <td>Africa, port unspecified</td>\n",
       "      <td>Barbados, place unspecified</td>\n",
       "      <td>190.0</td>\n",
       "      <td>Scott, John</td>\n",
       "    </tr>\n",
       "    <tr>\n",
       "      <th>6</th>\n",
       "      <td>1714.0</td>\n",
       "      <td>16115</td>\n",
       "      <td>Mermaid Gally</td>\n",
       "      <td>Bristol</td>\n",
       "      <td>Cape Verde Islands</td>\n",
       "      <td>Kingston</td>\n",
       "      <td>72.0</td>\n",
       "      <td>Banbury, John&lt;br/&gt; Copinger, James</td>\n",
       "    </tr>\n",
       "  </tbody>\n",
       "</table>\n",
       "</div>\n",
       "    <div class=\"colab-df-buttons\">\n",
       "\n",
       "  <div class=\"colab-df-container\">\n",
       "    <button class=\"colab-df-convert\" onclick=\"convertToInteractive('df-526e58b5-298f-49cf-89de-0231f5ffc604')\"\n",
       "            title=\"Convert this dataframe to an interactive table.\"\n",
       "            style=\"display:none;\">\n",
       "\n",
       "  <svg xmlns=\"http://www.w3.org/2000/svg\" height=\"24px\" viewBox=\"0 -960 960 960\">\n",
       "    <path d=\"M120-120v-720h720v720H120Zm60-500h600v-160H180v160Zm220 220h160v-160H400v160Zm0 220h160v-160H400v160ZM180-400h160v-160H180v160Zm440 0h160v-160H620v160ZM180-180h160v-160H180v160Zm440 0h160v-160H620v160Z\"/>\n",
       "  </svg>\n",
       "    </button>\n",
       "\n",
       "  <style>\n",
       "    .colab-df-container {\n",
       "      display:flex;\n",
       "      gap: 12px;\n",
       "    }\n",
       "\n",
       "    .colab-df-convert {\n",
       "      background-color: #E8F0FE;\n",
       "      border: none;\n",
       "      border-radius: 50%;\n",
       "      cursor: pointer;\n",
       "      display: none;\n",
       "      fill: #1967D2;\n",
       "      height: 32px;\n",
       "      padding: 0 0 0 0;\n",
       "      width: 32px;\n",
       "    }\n",
       "\n",
       "    .colab-df-convert:hover {\n",
       "      background-color: #E2EBFA;\n",
       "      box-shadow: 0px 1px 2px rgba(60, 64, 67, 0.3), 0px 1px 3px 1px rgba(60, 64, 67, 0.15);\n",
       "      fill: #174EA6;\n",
       "    }\n",
       "\n",
       "    .colab-df-buttons div {\n",
       "      margin-bottom: 4px;\n",
       "    }\n",
       "\n",
       "    [theme=dark] .colab-df-convert {\n",
       "      background-color: #3B4455;\n",
       "      fill: #D2E3FC;\n",
       "    }\n",
       "\n",
       "    [theme=dark] .colab-df-convert:hover {\n",
       "      background-color: #434B5C;\n",
       "      box-shadow: 0px 1px 3px 1px rgba(0, 0, 0, 0.15);\n",
       "      filter: drop-shadow(0px 1px 2px rgba(0, 0, 0, 0.3));\n",
       "      fill: #FFFFFF;\n",
       "    }\n",
       "  </style>\n",
       "\n",
       "    <script>\n",
       "      const buttonEl =\n",
       "        document.querySelector('#df-526e58b5-298f-49cf-89de-0231f5ffc604 button.colab-df-convert');\n",
       "      buttonEl.style.display =\n",
       "        google.colab.kernel.accessAllowed ? 'block' : 'none';\n",
       "\n",
       "      async function convertToInteractive(key) {\n",
       "        const element = document.querySelector('#df-526e58b5-298f-49cf-89de-0231f5ffc604');\n",
       "        const dataTable =\n",
       "          await google.colab.kernel.invokeFunction('convertToInteractive',\n",
       "                                                    [key], {});\n",
       "        if (!dataTable) return;\n",
       "\n",
       "        const docLinkHtml = 'Like what you see? Visit the ' +\n",
       "          '<a target=\"_blank\" href=https://colab.research.google.com/notebooks/data_table.ipynb>data table notebook</a>'\n",
       "          + ' to learn more about interactive tables.';\n",
       "        element.innerHTML = '';\n",
       "        dataTable['output_type'] = 'display_data';\n",
       "        await google.colab.output.renderOutput(dataTable, element);\n",
       "        const docLink = document.createElement('div');\n",
       "        docLink.innerHTML = docLinkHtml;\n",
       "        element.appendChild(docLink);\n",
       "      }\n",
       "    </script>\n",
       "  </div>\n",
       "\n",
       "\n",
       "<div id=\"df-3dbe6b5d-3553-41ba-a958-3ef171adf978\">\n",
       "  <button class=\"colab-df-quickchart\" onclick=\"quickchart('df-3dbe6b5d-3553-41ba-a958-3ef171adf978')\"\n",
       "            title=\"Suggest charts\"\n",
       "            style=\"display:none;\">\n",
       "\n",
       "<svg xmlns=\"http://www.w3.org/2000/svg\" height=\"24px\"viewBox=\"0 0 24 24\"\n",
       "     width=\"24px\">\n",
       "    <g>\n",
       "        <path d=\"M19 3H5c-1.1 0-2 .9-2 2v14c0 1.1.9 2 2 2h14c1.1 0 2-.9 2-2V5c0-1.1-.9-2-2-2zM9 17H7v-7h2v7zm4 0h-2V7h2v10zm4 0h-2v-4h2v4z\"/>\n",
       "    </g>\n",
       "</svg>\n",
       "  </button>\n",
       "\n",
       "<style>\n",
       "  .colab-df-quickchart {\n",
       "      --bg-color: #E8F0FE;\n",
       "      --fill-color: #1967D2;\n",
       "      --hover-bg-color: #E2EBFA;\n",
       "      --hover-fill-color: #174EA6;\n",
       "      --disabled-fill-color: #AAA;\n",
       "      --disabled-bg-color: #DDD;\n",
       "  }\n",
       "\n",
       "  [theme=dark] .colab-df-quickchart {\n",
       "      --bg-color: #3B4455;\n",
       "      --fill-color: #D2E3FC;\n",
       "      --hover-bg-color: #434B5C;\n",
       "      --hover-fill-color: #FFFFFF;\n",
       "      --disabled-bg-color: #3B4455;\n",
       "      --disabled-fill-color: #666;\n",
       "  }\n",
       "\n",
       "  .colab-df-quickchart {\n",
       "    background-color: var(--bg-color);\n",
       "    border: none;\n",
       "    border-radius: 50%;\n",
       "    cursor: pointer;\n",
       "    display: none;\n",
       "    fill: var(--fill-color);\n",
       "    height: 32px;\n",
       "    padding: 0;\n",
       "    width: 32px;\n",
       "  }\n",
       "\n",
       "  .colab-df-quickchart:hover {\n",
       "    background-color: var(--hover-bg-color);\n",
       "    box-shadow: 0 1px 2px rgba(60, 64, 67, 0.3), 0 1px 3px 1px rgba(60, 64, 67, 0.15);\n",
       "    fill: var(--button-hover-fill-color);\n",
       "  }\n",
       "\n",
       "  .colab-df-quickchart-complete:disabled,\n",
       "  .colab-df-quickchart-complete:disabled:hover {\n",
       "    background-color: var(--disabled-bg-color);\n",
       "    fill: var(--disabled-fill-color);\n",
       "    box-shadow: none;\n",
       "  }\n",
       "\n",
       "  .colab-df-spinner {\n",
       "    border: 2px solid var(--fill-color);\n",
       "    border-color: transparent;\n",
       "    border-bottom-color: var(--fill-color);\n",
       "    animation:\n",
       "      spin 1s steps(1) infinite;\n",
       "  }\n",
       "\n",
       "  @keyframes spin {\n",
       "    0% {\n",
       "      border-color: transparent;\n",
       "      border-bottom-color: var(--fill-color);\n",
       "      border-left-color: var(--fill-color);\n",
       "    }\n",
       "    20% {\n",
       "      border-color: transparent;\n",
       "      border-left-color: var(--fill-color);\n",
       "      border-top-color: var(--fill-color);\n",
       "    }\n",
       "    30% {\n",
       "      border-color: transparent;\n",
       "      border-left-color: var(--fill-color);\n",
       "      border-top-color: var(--fill-color);\n",
       "      border-right-color: var(--fill-color);\n",
       "    }\n",
       "    40% {\n",
       "      border-color: transparent;\n",
       "      border-right-color: var(--fill-color);\n",
       "      border-top-color: var(--fill-color);\n",
       "    }\n",
       "    60% {\n",
       "      border-color: transparent;\n",
       "      border-right-color: var(--fill-color);\n",
       "    }\n",
       "    80% {\n",
       "      border-color: transparent;\n",
       "      border-right-color: var(--fill-color);\n",
       "      border-bottom-color: var(--fill-color);\n",
       "    }\n",
       "    90% {\n",
       "      border-color: transparent;\n",
       "      border-bottom-color: var(--fill-color);\n",
       "    }\n",
       "  }\n",
       "</style>\n",
       "\n",
       "  <script>\n",
       "    async function quickchart(key) {\n",
       "      const quickchartButtonEl =\n",
       "        document.querySelector('#' + key + ' button');\n",
       "      quickchartButtonEl.disabled = true;  // To prevent multiple clicks.\n",
       "      quickchartButtonEl.classList.add('colab-df-spinner');\n",
       "      try {\n",
       "        const charts = await google.colab.kernel.invokeFunction(\n",
       "            'suggestCharts', [key], {});\n",
       "      } catch (error) {\n",
       "        console.error('Error during call to suggestCharts:', error);\n",
       "      }\n",
       "      quickchartButtonEl.classList.remove('colab-df-spinner');\n",
       "      quickchartButtonEl.classList.add('colab-df-quickchart-complete');\n",
       "    }\n",
       "    (() => {\n",
       "      let quickchartButtonEl =\n",
       "        document.querySelector('#df-3dbe6b5d-3553-41ba-a958-3ef171adf978 button');\n",
       "      quickchartButtonEl.style.display =\n",
       "        google.colab.kernel.accessAllowed ? 'block' : 'none';\n",
       "    })();\n",
       "  </script>\n",
       "</div>\n",
       "    </div>\n",
       "  </div>\n"
      ],
      "text/plain": [
       "   Year of arrival at port of disembarkation  Voyage ID    Vessel name  \\\n",
       "0                                     1714.0      16109   Freeke Gally   \n",
       "2                                     1714.0      16111          Jacob   \n",
       "3                                     1714.0      16112    Jason Gally   \n",
       "5                                     1714.0      16114    Mercy Gally   \n",
       "6                                     1714.0      16115  Mermaid Gally   \n",
       "\n",
       "  Voyage itinerary imputed port where began (ptdepimp) place  \\\n",
       "0                                            Bristol           \n",
       "2                                            Bristol           \n",
       "3                                            Bristol           \n",
       "5                                            Bristol           \n",
       "6                                            Bristol           \n",
       "\n",
       "  Voyage itinerary imputed principal place of slave purchase (mjbyptimp)   \\\n",
       "0                                                NaN                        \n",
       "2                                                NaN                        \n",
       "3                                                NaN                        \n",
       "5                           Africa, port unspecified                        \n",
       "6                                 Cape Verde Islands                        \n",
       "\n",
       "  Voyage itinerary imputed principal port of slave disembarkation (mjslptimp) place  \\\n",
       "0                                           Kingston                                  \n",
       "2                                           Kingston                                  \n",
       "3                                         Port Royal                                  \n",
       "5                        Barbados, place unspecified                                  \n",
       "6                                           Kingston                                  \n",
       "\n",
       "   Captives arrived at 1st port                      Captain's name  \n",
       "0                         283.0                    Neale, Alexander  \n",
       "2                         130.0                    Nicholls, Philip  \n",
       "3                         278.0                       Plummer, John  \n",
       "5                         190.0                         Scott, John  \n",
       "6                          72.0  Banbury, John<br/> Copinger, James  "
      ]
     },
     "execution_count": 24,
     "metadata": {},
     "output_type": "execute_result"
    }
   ],
   "source": [
    "# step2, removing all the rows haveing NaN in the \"Captives arrived at 1st port\" column\n",
    "cleaned_df_step2 = cleaned_df_step1.dropna(subset=[column_to_remove_nan])\n",
    "cleaned_df_step2.head(5)"
   ]
  },
  {
   "cell_type": "code",
   "execution_count": null,
   "metadata": {
    "colab": {
     "base_uri": "https://localhost:8080/",
     "height": 293
    },
    "executionInfo": {
     "elapsed": 230,
     "status": "ok",
     "timestamp": 1710170747436,
     "user": {
      "displayName": "Stefano R.",
      "userId": "13292509372930268929"
     },
     "user_tz": -60
    },
    "id": "eSD3i4iXHonY",
    "outputId": "261e13b1-fac8-4072-9bca-adc3e90bfea7"
   },
   "outputs": [
    {
     "data": {
      "application/vnd.google.colaboratory.intrinsic+json": {
       "summary": "{\n  \"name\": \"cleaned_df\",\n  \"rows\": 18408,\n  \"fields\": [\n    {\n      \"column\": \"Year of arrival at port of disembarkation\",\n      \"properties\": {\n        \"dtype\": \"number\",\n        \"std\": 52.83643003667832,\n        \"min\": 1520.0,\n        \"max\": 1866.0,\n        \"num_unique_values\": 298,\n        \"samples\": [\n          1596.0,\n          1844.0,\n          1655.0\n        ],\n        \"semantic_type\": \"\",\n        \"description\": \"\"\n      }\n    },\n    {\n      \"column\": \"Voyage ID\",\n      \"properties\": {\n        \"dtype\": \"number\",\n        \"std\": 35740,\n        \"min\": 1,\n        \"max\": 900192,\n        \"num_unique_values\": 18408,\n        \"samples\": [\n          27080,\n          75432,\n          795\n        ],\n        \"semantic_type\": \"\",\n        \"description\": \"\"\n      }\n    },\n    {\n      \"column\": \"Vessel name\",\n      \"properties\": {\n        \"dtype\": \"category\",\n        \"num_unique_values\": 5826,\n        \"samples\": [\n          \"Comodoro\",\n          \"Segundo Campeador\",\n          \"Saint Paul\"\n        ],\n        \"semantic_type\": \"\",\n        \"description\": \"\"\n      }\n    },\n    {\n      \"column\": \"Voyage itinerary imputed port where began (ptdepimp) place\",\n      \"properties\": {\n        \"dtype\": \"category\",\n        \"num_unique_values\": 176,\n        \"samples\": [\n          \"Vannes\",\n          \"Spain, place unspecified\",\n          \"Luanda\"\n        ],\n        \"semantic_type\": \"\",\n        \"description\": \"\"\n      }\n    },\n    {\n      \"column\": \"Voyage itinerary imputed principal place of slave purchase (mjbyptimp) \",\n      \"properties\": {\n        \"dtype\": \"category\",\n        \"num_unique_values\": 161,\n        \"samples\": [\n          \"Bimbia\",\n          \"Alampo\",\n          \"Alecuba\"\n        ],\n        \"semantic_type\": \"\",\n        \"description\": \"\"\n      }\n    },\n    {\n      \"column\": \"Voyage itinerary imputed principal port of slave disembarkation (mjslptimp) place\",\n      \"properties\": {\n        \"dtype\": \"category\",\n        \"num_unique_values\": 240,\n        \"samples\": [\n          \"L\\u00e9ogane\",\n          \"Charleston\",\n          \"Portobelo\"\n        ],\n        \"semantic_type\": \"\",\n        \"description\": \"\"\n      }\n    },\n    {\n      \"column\": \"Captives arrived at 1st port\",\n      \"properties\": {\n        \"dtype\": \"number\",\n        \"std\": 158.75190484688696,\n        \"min\": 0.0,\n        \"max\": 1700.0,\n        \"num_unique_values\": 817,\n        \"samples\": [\n          284.0,\n          68.0,\n          281.0\n        ],\n        \"semantic_type\": \"\",\n        \"description\": \"\"\n      }\n    },\n    {\n      \"column\": \"Captain's name\",\n      \"properties\": {\n        \"dtype\": \"string\",\n        \"num_unique_values\": 10830,\n        \"samples\": [\n          \"Pitts, Francis\",\n          \"Hoskins, James\",\n          \"Pike\"\n        ],\n        \"semantic_type\": \"\",\n        \"description\": \"\"\n      }\n    }\n  ]\n}",
       "type": "dataframe",
       "variable_name": "cleaned_df"
      },
      "text/html": [
       "\n",
       "  <div id=\"df-ea7f626d-dfa8-4919-9114-138defb2b932\" class=\"colab-df-container\">\n",
       "    <div>\n",
       "<style scoped>\n",
       "    .dataframe tbody tr th:only-of-type {\n",
       "        vertical-align: middle;\n",
       "    }\n",
       "\n",
       "    .dataframe tbody tr th {\n",
       "        vertical-align: top;\n",
       "    }\n",
       "\n",
       "    .dataframe thead th {\n",
       "        text-align: right;\n",
       "    }\n",
       "</style>\n",
       "<table border=\"1\" class=\"dataframe\">\n",
       "  <thead>\n",
       "    <tr style=\"text-align: right;\">\n",
       "      <th></th>\n",
       "      <th>Year of arrival at port of disembarkation</th>\n",
       "      <th>Voyage ID</th>\n",
       "      <th>Vessel name</th>\n",
       "      <th>Voyage itinerary imputed port where began (ptdepimp) place</th>\n",
       "      <th>Voyage itinerary imputed principal place of slave purchase (mjbyptimp)</th>\n",
       "      <th>Voyage itinerary imputed principal port of slave disembarkation (mjslptimp) place</th>\n",
       "      <th>Captives arrived at 1st port</th>\n",
       "      <th>Captain's name</th>\n",
       "    </tr>\n",
       "  </thead>\n",
       "  <tbody>\n",
       "    <tr>\n",
       "      <th>0</th>\n",
       "      <td>1714.0</td>\n",
       "      <td>16109</td>\n",
       "      <td>Freeke Gally</td>\n",
       "      <td>Bristol</td>\n",
       "      <td>unknown</td>\n",
       "      <td>Kingston</td>\n",
       "      <td>283.0</td>\n",
       "      <td>Neale, Alexander</td>\n",
       "    </tr>\n",
       "    <tr>\n",
       "      <th>2</th>\n",
       "      <td>1714.0</td>\n",
       "      <td>16111</td>\n",
       "      <td>Jacob</td>\n",
       "      <td>Bristol</td>\n",
       "      <td>unknown</td>\n",
       "      <td>Kingston</td>\n",
       "      <td>130.0</td>\n",
       "      <td>Nicholls, Philip</td>\n",
       "    </tr>\n",
       "    <tr>\n",
       "      <th>3</th>\n",
       "      <td>1714.0</td>\n",
       "      <td>16112</td>\n",
       "      <td>Jason Gally</td>\n",
       "      <td>Bristol</td>\n",
       "      <td>unknown</td>\n",
       "      <td>Port Royal</td>\n",
       "      <td>278.0</td>\n",
       "      <td>Plummer, John</td>\n",
       "    </tr>\n",
       "    <tr>\n",
       "      <th>5</th>\n",
       "      <td>1714.0</td>\n",
       "      <td>16114</td>\n",
       "      <td>Mercy Gally</td>\n",
       "      <td>Bristol</td>\n",
       "      <td>Africa, port unspecified</td>\n",
       "      <td>Barbados, place unspecified</td>\n",
       "      <td>190.0</td>\n",
       "      <td>Scott, John</td>\n",
       "    </tr>\n",
       "    <tr>\n",
       "      <th>6</th>\n",
       "      <td>1714.0</td>\n",
       "      <td>16115</td>\n",
       "      <td>Mermaid Gally</td>\n",
       "      <td>Bristol</td>\n",
       "      <td>Cape Verde Islands</td>\n",
       "      <td>Kingston</td>\n",
       "      <td>72.0</td>\n",
       "      <td>Banbury, John&lt;br/&gt; Copinger, James</td>\n",
       "    </tr>\n",
       "  </tbody>\n",
       "</table>\n",
       "</div>\n",
       "    <div class=\"colab-df-buttons\">\n",
       "\n",
       "  <div class=\"colab-df-container\">\n",
       "    <button class=\"colab-df-convert\" onclick=\"convertToInteractive('df-ea7f626d-dfa8-4919-9114-138defb2b932')\"\n",
       "            title=\"Convert this dataframe to an interactive table.\"\n",
       "            style=\"display:none;\">\n",
       "\n",
       "  <svg xmlns=\"http://www.w3.org/2000/svg\" height=\"24px\" viewBox=\"0 -960 960 960\">\n",
       "    <path d=\"M120-120v-720h720v720H120Zm60-500h600v-160H180v160Zm220 220h160v-160H400v160Zm0 220h160v-160H400v160ZM180-400h160v-160H180v160Zm440 0h160v-160H620v160ZM180-180h160v-160H180v160Zm440 0h160v-160H620v160Z\"/>\n",
       "  </svg>\n",
       "    </button>\n",
       "\n",
       "  <style>\n",
       "    .colab-df-container {\n",
       "      display:flex;\n",
       "      gap: 12px;\n",
       "    }\n",
       "\n",
       "    .colab-df-convert {\n",
       "      background-color: #E8F0FE;\n",
       "      border: none;\n",
       "      border-radius: 50%;\n",
       "      cursor: pointer;\n",
       "      display: none;\n",
       "      fill: #1967D2;\n",
       "      height: 32px;\n",
       "      padding: 0 0 0 0;\n",
       "      width: 32px;\n",
       "    }\n",
       "\n",
       "    .colab-df-convert:hover {\n",
       "      background-color: #E2EBFA;\n",
       "      box-shadow: 0px 1px 2px rgba(60, 64, 67, 0.3), 0px 1px 3px 1px rgba(60, 64, 67, 0.15);\n",
       "      fill: #174EA6;\n",
       "    }\n",
       "\n",
       "    .colab-df-buttons div {\n",
       "      margin-bottom: 4px;\n",
       "    }\n",
       "\n",
       "    [theme=dark] .colab-df-convert {\n",
       "      background-color: #3B4455;\n",
       "      fill: #D2E3FC;\n",
       "    }\n",
       "\n",
       "    [theme=dark] .colab-df-convert:hover {\n",
       "      background-color: #434B5C;\n",
       "      box-shadow: 0px 1px 3px 1px rgba(0, 0, 0, 0.15);\n",
       "      filter: drop-shadow(0px 1px 2px rgba(0, 0, 0, 0.3));\n",
       "      fill: #FFFFFF;\n",
       "    }\n",
       "  </style>\n",
       "\n",
       "    <script>\n",
       "      const buttonEl =\n",
       "        document.querySelector('#df-ea7f626d-dfa8-4919-9114-138defb2b932 button.colab-df-convert');\n",
       "      buttonEl.style.display =\n",
       "        google.colab.kernel.accessAllowed ? 'block' : 'none';\n",
       "\n",
       "      async function convertToInteractive(key) {\n",
       "        const element = document.querySelector('#df-ea7f626d-dfa8-4919-9114-138defb2b932');\n",
       "        const dataTable =\n",
       "          await google.colab.kernel.invokeFunction('convertToInteractive',\n",
       "                                                    [key], {});\n",
       "        if (!dataTable) return;\n",
       "\n",
       "        const docLinkHtml = 'Like what you see? Visit the ' +\n",
       "          '<a target=\"_blank\" href=https://colab.research.google.com/notebooks/data_table.ipynb>data table notebook</a>'\n",
       "          + ' to learn more about interactive tables.';\n",
       "        element.innerHTML = '';\n",
       "        dataTable['output_type'] = 'display_data';\n",
       "        await google.colab.output.renderOutput(dataTable, element);\n",
       "        const docLink = document.createElement('div');\n",
       "        docLink.innerHTML = docLinkHtml;\n",
       "        element.appendChild(docLink);\n",
       "      }\n",
       "    </script>\n",
       "  </div>\n",
       "\n",
       "\n",
       "<div id=\"df-4a50a85f-7278-408c-a698-8eb0c5506e29\">\n",
       "  <button class=\"colab-df-quickchart\" onclick=\"quickchart('df-4a50a85f-7278-408c-a698-8eb0c5506e29')\"\n",
       "            title=\"Suggest charts\"\n",
       "            style=\"display:none;\">\n",
       "\n",
       "<svg xmlns=\"http://www.w3.org/2000/svg\" height=\"24px\"viewBox=\"0 0 24 24\"\n",
       "     width=\"24px\">\n",
       "    <g>\n",
       "        <path d=\"M19 3H5c-1.1 0-2 .9-2 2v14c0 1.1.9 2 2 2h14c1.1 0 2-.9 2-2V5c0-1.1-.9-2-2-2zM9 17H7v-7h2v7zm4 0h-2V7h2v10zm4 0h-2v-4h2v4z\"/>\n",
       "    </g>\n",
       "</svg>\n",
       "  </button>\n",
       "\n",
       "<style>\n",
       "  .colab-df-quickchart {\n",
       "      --bg-color: #E8F0FE;\n",
       "      --fill-color: #1967D2;\n",
       "      --hover-bg-color: #E2EBFA;\n",
       "      --hover-fill-color: #174EA6;\n",
       "      --disabled-fill-color: #AAA;\n",
       "      --disabled-bg-color: #DDD;\n",
       "  }\n",
       "\n",
       "  [theme=dark] .colab-df-quickchart {\n",
       "      --bg-color: #3B4455;\n",
       "      --fill-color: #D2E3FC;\n",
       "      --hover-bg-color: #434B5C;\n",
       "      --hover-fill-color: #FFFFFF;\n",
       "      --disabled-bg-color: #3B4455;\n",
       "      --disabled-fill-color: #666;\n",
       "  }\n",
       "\n",
       "  .colab-df-quickchart {\n",
       "    background-color: var(--bg-color);\n",
       "    border: none;\n",
       "    border-radius: 50%;\n",
       "    cursor: pointer;\n",
       "    display: none;\n",
       "    fill: var(--fill-color);\n",
       "    height: 32px;\n",
       "    padding: 0;\n",
       "    width: 32px;\n",
       "  }\n",
       "\n",
       "  .colab-df-quickchart:hover {\n",
       "    background-color: var(--hover-bg-color);\n",
       "    box-shadow: 0 1px 2px rgba(60, 64, 67, 0.3), 0 1px 3px 1px rgba(60, 64, 67, 0.15);\n",
       "    fill: var(--button-hover-fill-color);\n",
       "  }\n",
       "\n",
       "  .colab-df-quickchart-complete:disabled,\n",
       "  .colab-df-quickchart-complete:disabled:hover {\n",
       "    background-color: var(--disabled-bg-color);\n",
       "    fill: var(--disabled-fill-color);\n",
       "    box-shadow: none;\n",
       "  }\n",
       "\n",
       "  .colab-df-spinner {\n",
       "    border: 2px solid var(--fill-color);\n",
       "    border-color: transparent;\n",
       "    border-bottom-color: var(--fill-color);\n",
       "    animation:\n",
       "      spin 1s steps(1) infinite;\n",
       "  }\n",
       "\n",
       "  @keyframes spin {\n",
       "    0% {\n",
       "      border-color: transparent;\n",
       "      border-bottom-color: var(--fill-color);\n",
       "      border-left-color: var(--fill-color);\n",
       "    }\n",
       "    20% {\n",
       "      border-color: transparent;\n",
       "      border-left-color: var(--fill-color);\n",
       "      border-top-color: var(--fill-color);\n",
       "    }\n",
       "    30% {\n",
       "      border-color: transparent;\n",
       "      border-left-color: var(--fill-color);\n",
       "      border-top-color: var(--fill-color);\n",
       "      border-right-color: var(--fill-color);\n",
       "    }\n",
       "    40% {\n",
       "      border-color: transparent;\n",
       "      border-right-color: var(--fill-color);\n",
       "      border-top-color: var(--fill-color);\n",
       "    }\n",
       "    60% {\n",
       "      border-color: transparent;\n",
       "      border-right-color: var(--fill-color);\n",
       "    }\n",
       "    80% {\n",
       "      border-color: transparent;\n",
       "      border-right-color: var(--fill-color);\n",
       "      border-bottom-color: var(--fill-color);\n",
       "    }\n",
       "    90% {\n",
       "      border-color: transparent;\n",
       "      border-bottom-color: var(--fill-color);\n",
       "    }\n",
       "  }\n",
       "</style>\n",
       "\n",
       "  <script>\n",
       "    async function quickchart(key) {\n",
       "      const quickchartButtonEl =\n",
       "        document.querySelector('#' + key + ' button');\n",
       "      quickchartButtonEl.disabled = true;  // To prevent multiple clicks.\n",
       "      quickchartButtonEl.classList.add('colab-df-spinner');\n",
       "      try {\n",
       "        const charts = await google.colab.kernel.invokeFunction(\n",
       "            'suggestCharts', [key], {});\n",
       "      } catch (error) {\n",
       "        console.error('Error during call to suggestCharts:', error);\n",
       "      }\n",
       "      quickchartButtonEl.classList.remove('colab-df-spinner');\n",
       "      quickchartButtonEl.classList.add('colab-df-quickchart-complete');\n",
       "    }\n",
       "    (() => {\n",
       "      let quickchartButtonEl =\n",
       "        document.querySelector('#df-4a50a85f-7278-408c-a698-8eb0c5506e29 button');\n",
       "      quickchartButtonEl.style.display =\n",
       "        google.colab.kernel.accessAllowed ? 'block' : 'none';\n",
       "    })();\n",
       "  </script>\n",
       "</div>\n",
       "    </div>\n",
       "  </div>\n"
      ],
      "text/plain": [
       "   Year of arrival at port of disembarkation  Voyage ID    Vessel name  \\\n",
       "0                                     1714.0      16109   Freeke Gally   \n",
       "2                                     1714.0      16111          Jacob   \n",
       "3                                     1714.0      16112    Jason Gally   \n",
       "5                                     1714.0      16114    Mercy Gally   \n",
       "6                                     1714.0      16115  Mermaid Gally   \n",
       "\n",
       "  Voyage itinerary imputed port where began (ptdepimp) place  \\\n",
       "0                                            Bristol           \n",
       "2                                            Bristol           \n",
       "3                                            Bristol           \n",
       "5                                            Bristol           \n",
       "6                                            Bristol           \n",
       "\n",
       "  Voyage itinerary imputed principal place of slave purchase (mjbyptimp)   \\\n",
       "0                                            unknown                        \n",
       "2                                            unknown                        \n",
       "3                                            unknown                        \n",
       "5                           Africa, port unspecified                        \n",
       "6                                 Cape Verde Islands                        \n",
       "\n",
       "  Voyage itinerary imputed principal port of slave disembarkation (mjslptimp) place  \\\n",
       "0                                           Kingston                                  \n",
       "2                                           Kingston                                  \n",
       "3                                         Port Royal                                  \n",
       "5                        Barbados, place unspecified                                  \n",
       "6                                           Kingston                                  \n",
       "\n",
       "   Captives arrived at 1st port                      Captain's name  \n",
       "0                         283.0                    Neale, Alexander  \n",
       "2                         130.0                    Nicholls, Philip  \n",
       "3                         278.0                       Plummer, John  \n",
       "5                         190.0                         Scott, John  \n",
       "6                          72.0  Banbury, John<br/> Copinger, James  "
      ]
     },
     "execution_count": 25,
     "metadata": {},
     "output_type": "execute_result"
    }
   ],
   "source": [
    "# step3, changing all the other NaN into unknown\n",
    "cleaned_df = cleaned_df_step2.fillna(\"unknown\")\n",
    "cleaned_df.head(5)"
   ]
  },
  {
   "cell_type": "code",
   "execution_count": null,
   "metadata": {
    "colab": {
     "base_uri": "https://localhost:8080/"
    },
    "executionInfo": {
     "elapsed": 215,
     "status": "ok",
     "timestamp": 1710170766905,
     "user": {
      "displayName": "Stefano R.",
      "userId": "13292509372930268929"
     },
     "user_tz": -60
    },
    "id": "5LHhMPyoHq8q",
    "outputId": "d05c8bfc-01c3-4298-9740-1e44fedabf20"
   },
   "outputs": [
    {
     "name": "stdout",
     "output_type": "stream",
     "text": [
      "(18408, 8)\n",
      "We filtered out:  17743 , corresponding to about 49 % of our initial data\n"
     ]
    }
   ],
   "source": [
    "# step4, checking how much data we filtered out\n",
    "print(cleaned_df.shape)\n",
    "n_filtered_rows = len(df)-len(cleaned_df)\n",
    "per_cent = (n_filtered_rows/len(df))*100\n",
    "print('We filtered out: ',len(df)-len(cleaned_df),', corresponding to about', round(per_cent), '% of our initial data')"
   ]
  },
  {
   "cell_type": "code",
   "execution_count": null,
   "metadata": {
    "colab": {
     "base_uri": "https://localhost:8080/"
    },
    "executionInfo": {
     "elapsed": 236,
     "status": "ok",
     "timestamp": 1710170960985,
     "user": {
      "displayName": "Stefano R.",
      "userId": "13292509372930268929"
     },
     "user_tz": -60
    },
    "id": "NywAGKStHvtv",
    "outputId": "b1bc1b1e-9daf-4859-e5e3-1790bd886333"
   },
   "outputs": [
    {
     "name": "stdout",
     "output_type": "stream",
     "text": [
      "1520.0\n",
      "1866.0\n",
      "346.0\n"
     ]
    }
   ],
   "source": [
    "arrival_year = cleaned_df.iloc[:,0]\n",
    "first_year = min(arrival_year)\n",
    "last_year = max(arrival_year)\n",
    "year_span = last_year-first_year\n",
    "\n",
    "print(first_year)\n",
    "print(last_year)\n",
    "print(year_span)"
   ]
  },
  {
   "cell_type": "code",
   "execution_count": null,
   "metadata": {
    "colab": {
     "base_uri": "https://localhost:8080/"
    },
    "executionInfo": {
     "elapsed": 209,
     "status": "ok",
     "timestamp": 1710170969714,
     "user": {
      "displayName": "Stefano R.",
      "userId": "13292509372930268929"
     },
     "user_tz": -60
    },
    "id": "OY_zwOjCIfFc",
    "outputId": "23a13d20-7e70-490c-d787-948e2446859a"
   },
   "outputs": [
    {
     "name": "stdout",
     "output_type": "stream",
     "text": [
      "1514.0\n",
      "1866.0\n",
      "352.0\n"
     ]
    }
   ],
   "source": [
    "arrival_year_raw = df.iloc[:,0]\n",
    "first_year_raw = min(arrival_year_raw)\n",
    "last_year_raw = max(arrival_year_raw)\n",
    "year_span_raw = last_year_raw-first_year_raw\n",
    "\n",
    "print(first_year_raw)\n",
    "print(last_year_raw)\n",
    "print(year_span_raw)"
   ]
  },
  {
   "cell_type": "code",
   "execution_count": null,
   "metadata": {
    "colab": {
     "base_uri": "https://localhost:8080/"
    },
    "executionInfo": {
     "elapsed": 3,
     "status": "ok",
     "timestamp": 1710170996142,
     "user": {
      "displayName": "Stefano R.",
      "userId": "13292509372930268929"
     },
     "user_tz": -60
    },
    "id": "cPGOO8MQIhNh",
    "outputId": "29eaad63-b7f5-4066-f69d-32cb21a45ea1"
   },
   "outputs": [
    {
     "name": "stdout",
     "output_type": "stream",
     "text": [
      "Total n. of captives: 5082756.0\n",
      "Average captives per voyage 276\n",
      "Average captives per year 14690\n"
     ]
    }
   ],
   "source": [
    "n_captives = cleaned_df.iloc[:,6]\n",
    "tot_captives = sum(n_captives)\n",
    "ave_cap_per_voyage = tot_captives/len(cleaned_df)\n",
    "ave_cap_per_year = tot_captives/year_span\n",
    "print('Total n. of captives:',tot_captives)\n",
    "print('Average captives per voyage',round(ave_cap_per_voyage))\n",
    "print('Average captives per year',round(ave_cap_per_year))"
   ]
  },
  {
   "cell_type": "code",
   "execution_count": null,
   "metadata": {
    "colab": {
     "base_uri": "https://localhost:8080/"
    },
    "executionInfo": {
     "elapsed": 237,
     "status": "ok",
     "timestamp": 1710171004156,
     "user": {
      "displayName": "Stefano R.",
      "userId": "13292509372930268929"
     },
     "user_tz": -60
    },
    "id": "mZDfDmHeInPh",
    "outputId": "ebbed6f6-492e-404b-bf7e-ee0cfb2e11b2"
   },
   "outputs": [
    {
     "name": "stdout",
     "output_type": "stream",
     "text": [
      "Extimated total n. of captives 9981894\n",
      "Adjusted average captives per year 28358\n"
     ]
    }
   ],
   "source": [
    "filtered_rows = len(df)-len(cleaned_df)\n",
    "tot_captives_ext = tot_captives + ave_cap_per_voyage*filtered_rows\n",
    "ave_cap_per_year_adj = tot_captives_ext/year_span_raw\n",
    "print('Extimated total n. of captives',round(tot_captives_ext))\n",
    "print('Adjusted average captives per year', round(ave_cap_per_year_adj))"
   ]
  },
  {
   "cell_type": "code",
   "execution_count": null,
   "metadata": {
    "colab": {
     "base_uri": "https://localhost:8080/"
    },
    "executionInfo": {
     "elapsed": 3,
     "status": "ok",
     "timestamp": 1710171021309,
     "user": {
      "displayName": "Stefano R.",
      "userId": "13292509372930268929"
     },
     "user_tz": -60
    },
    "id": "3tGHHEH0IpgE",
    "outputId": "656f8448-7dd3-4650-f9d5-713523afce07"
   },
   "outputs": [
    {
     "name": "stdout",
     "output_type": "stream",
     "text": [
      "<class 'pandas.core.series.Series'>\n"
     ]
    },
    {
     "data": {
      "text/plain": [
       "Liverpool                       3227\n",
       "unknown                         2005\n",
       "London                          1874\n",
       "Bahia, place unspecified        1815\n",
       "Rio de Janeiro                  1464\n",
       "                                ... \n",
       "Mangaratiba                        1\n",
       "Mediterranean coast (France)       1\n",
       "Canasí                             1\n",
       "Santa Catarina                     1\n",
       "Portland                           1\n",
       "Name: Voyage itinerary imputed port where began (ptdepimp) place, Length: 176, dtype: int64"
      ]
     },
     "execution_count": 31,
     "metadata": {},
     "output_type": "execute_result"
    }
   ],
   "source": [
    "start_port = cleaned_df.iloc[:,3]\n",
    "start_port_counts = start_port.value_counts()\n",
    "print(type(start_port_counts))\n",
    "start_port_counts"
   ]
  },
  {
   "cell_type": "code",
   "execution_count": null,
   "metadata": {
    "colab": {
     "base_uri": "https://localhost:8080/",
     "height": 713
    },
    "executionInfo": {
     "elapsed": 3644,
     "status": "ok",
     "timestamp": 1710171038478,
     "user": {
      "displayName": "Stefano R.",
      "userId": "13292509372930268929"
     },
     "user_tz": -60
    },
    "id": "vbFnqY8EItrb",
    "outputId": "6a9d8a28-70b7-45a2-e4e5-cb1cd8d59c30"
   },
   "outputs": [
    {
     "data": {
      "text/plain": [
       "<Axes: xlabel='Voyage itinerary imputed port where began (ptdepimp) place', ylabel='None'>"
      ]
     },
     "execution_count": 32,
     "metadata": {},
     "output_type": "execute_result"
    },
    {
     "data": {
      "image/png": "[encoded data removed]",
      "text/plain": [
       "<Figure size 800x800 with 1 Axes>"
      ]
     },
     "metadata": {},
     "output_type": "display_data"
    }
   ],
   "source": [
    "import seaborn as sns\n",
    "import matplotlib.pyplot as plt\n",
    "\n",
    "fig, new_ax = plt.subplots(nrows=1,ncols=1,figsize=(8,8))\n",
    "filter = start_port_counts > 50\n",
    "sns.barplot(ax=new_ax,x=start_port_counts[filter],y=start_port_counts.index[filter])"
   ]
  },
  {
   "cell_type": "code",
   "execution_count": null,
   "metadata": {
    "colab": {
     "base_uri": "https://localhost:8080/"
    },
    "executionInfo": {
     "elapsed": 216,
     "status": "ok",
     "timestamp": 1710171053703,
     "user": {
      "displayName": "Stefano R.",
      "userId": "13292509372930268929"
     },
     "user_tz": -60
    },
    "id": "GchNH3j9IxLU",
    "outputId": "4b7ee49b-b5cd-4401-f4b0-93da1f8d7a4c"
   },
   "outputs": [
    {
     "data": {
      "text/plain": [
       "Africa, port unspecified                                3177\n",
       "Luanda                                                  1447\n",
       "West Central Africa and St. Helena, port unspecified    1139\n",
       "Bonny                                                    853\n",
       "Gold Coast, port unspecified                             787\n",
       "                                                        ... \n",
       "Petit Mesurado                                             1\n",
       "Eva                                                        1\n",
       "Pokesoe (Princes Town)                                     1\n",
       "Sassandra                                                  1\n",
       "Sugary (Siekere)                                           1\n",
       "Name: Voyage itinerary imputed principal place of slave purchase (mjbyptimp) , Length: 161, dtype: int64"
      ]
     },
     "execution_count": 33,
     "metadata": {},
     "output_type": "execute_result"
    }
   ],
   "source": [
    "main_pur_port = cleaned_df.iloc[:,4]\n",
    "main_pur_counts = main_pur_port.value_counts()\n",
    "main_pur_counts"
   ]
  },
  {
   "cell_type": "code",
   "execution_count": null,
   "metadata": {
    "colab": {
     "base_uri": "https://localhost:8080/",
     "height": 713
    },
    "executionInfo": {
     "elapsed": 1559,
     "status": "ok",
     "timestamp": 1710171062471,
     "user": {
      "displayName": "Stefano R.",
      "userId": "13292509372930268929"
     },
     "user_tz": -60
    },
    "id": "xWhGrBevI1ug",
    "outputId": "8fd0e8f5-8f73-43e0-a9a4-29b4ad303ee1"
   },
   "outputs": [
    {
     "data": {
      "text/plain": [
       "<Axes: xlabel='Voyage itinerary imputed principal place of slave purchase (mjbyptimp) ', ylabel='None'>"
      ]
     },
     "execution_count": 34,
     "metadata": {},
     "output_type": "execute_result"
    },
    {
     "data": {
      "image/png": "[encoded data removed]",
      "text/plain": [
       "<Figure size 800x800 with 1 Axes>"
      ]
     },
     "metadata": {},
     "output_type": "display_data"
    }
   ],
   "source": [
    "fig, ax = plt.subplots(1,1,figsize=(8,8))\n",
    "filter = main_pur_counts > 200\n",
    "sns.barplot(ax=ax,x=main_pur_counts[filter],y=main_pur_counts.index[filter])"
   ]
  },
  {
   "cell_type": "code",
   "execution_count": null,
   "metadata": {
    "colab": {
     "base_uri": "https://localhost:8080/"
    },
    "executionInfo": {
     "elapsed": 361,
     "status": "ok",
     "timestamp": 1710171070103,
     "user": {
      "displayName": "Stefano R.",
      "userId": "13292509372930268929"
     },
     "user_tz": -60
    },
    "id": "oqQGkgHrI3if",
    "outputId": "b6ae5ee8-792f-46bb-bd8f-d04cdd304273"
   },
   "outputs": [
    {
     "data": {
      "text/plain": [
       "Bahia, place unspecified       1720\n",
       "Rio de Janeiro                 1651\n",
       "Kingston                       1576\n",
       "Barbados, place unspecified    1524\n",
       "Havana                          893\n",
       "                               ... \n",
       "France, place unspecified         1\n",
       "Santa Marta                       1\n",
       "Dois Rios                         1\n",
       "Maceió                            1\n",
       "Bonny                             1\n",
       "Name: Voyage itinerary imputed principal port of slave disembarkation (mjslptimp) place, Length: 240, dtype: int64"
      ]
     },
     "execution_count": 35,
     "metadata": {},
     "output_type": "execute_result"
    }
   ],
   "source": [
    "main_dis_port = cleaned_df.iloc[:,5]\n",
    "main_dis_counts = main_dis_port.value_counts()\n",
    "main_dis_counts"
   ]
  },
  {
   "cell_type": "code",
   "execution_count": null,
   "metadata": {
    "colab": {
     "base_uri": "https://localhost:8080/",
     "height": 713
    },
    "executionInfo": {
     "elapsed": 1283,
     "status": "ok",
     "timestamp": 1710171080017,
     "user": {
      "displayName": "Stefano R.",
      "userId": "13292509372930268929"
     },
     "user_tz": -60
    },
    "id": "ObE5S1wfI5ox",
    "outputId": "f6ec5056-51f6-4d4d-b638-dc50f46b9abe"
   },
   "outputs": [
    {
     "data": {
      "text/plain": [
       "<Axes: xlabel='Voyage itinerary imputed principal port of slave disembarkation (mjslptimp) place', ylabel='None'>"
      ]
     },
     "execution_count": 36,
     "metadata": {},
     "output_type": "execute_result"
    },
    {
     "data": {
      "image/png": "[encoded data removed]",
      "text/plain": [
       "<Figure size 800x800 with 1 Axes>"
      ]
     },
     "metadata": {},
     "output_type": "display_data"
    }
   ],
   "source": [
    "fig, ax = plt.subplots(1,1,figsize=(8,8))\n",
    "filter = main_dis_counts > 150\n",
    "sns.barplot(ax=ax,x=main_dis_counts[filter],y=main_dis_counts.index[filter])"
   ]
  },
  {
   "cell_type": "code",
   "execution_count": null,
   "metadata": {
    "colab": {
     "base_uri": "https://localhost:8080/"
    },
    "executionInfo": {
     "elapsed": 4,
     "status": "ok",
     "timestamp": 1710171100914,
     "user": {
      "displayName": "Stefano R.",
      "userId": "13292509372930268929"
     },
     "user_tz": -60
    },
    "id": "aCzjRyXCI75o",
    "outputId": "69ebde94-c911-4caa-8ff7-30be12214541"
   },
   "outputs": [
    {
     "name": "stdout",
     "output_type": "stream",
     "text": [
      "(298,)\n"
     ]
    },
    {
     "data": {
      "text/plain": [
       "Year of arrival at port of disembarkation\n",
       "1520.0       44.0\n",
       "1526.0      115.0\n",
       "1527.0       46.0\n",
       "1532.0      589.0\n",
       "1534.0      354.0\n",
       "           ...   \n",
       "1862.0    11407.0\n",
       "1863.0     6739.0\n",
       "1864.0     3298.0\n",
       "1865.0      795.0\n",
       "1866.0      700.0\n",
       "Name: Captives arrived at 1st port, Length: 298, dtype: float64"
      ]
     },
     "execution_count": 37,
     "metadata": {},
     "output_type": "execute_result"
    }
   ],
   "source": [
    "col_to_group = 'Year of arrival at port of disembarkation'\n",
    "col_to_sum = 'Captives arrived at 1st port'\n",
    "df_per_year = cleaned_df.groupby(col_to_group)[col_to_sum].sum()\n",
    "print(df_per_year.shape)\n",
    "df_per_year"
   ]
  },
  {
   "cell_type": "code",
   "execution_count": null,
   "metadata": {
    "colab": {
     "base_uri": "https://localhost:8080/",
     "height": 696
    },
    "executionInfo": {
     "elapsed": 1107,
     "status": "ok",
     "timestamp": 1710171109606,
     "user": {
      "displayName": "Stefano R.",
      "userId": "13292509372930268929"
     },
     "user_tz": -60
    },
    "id": "iT0YM0ksJBFb",
    "outputId": "4a755c5f-de07-4075-c089-93304199c615"
   },
   "outputs": [
    {
     "data": {
      "image/png": "[encoded data removed]",
      "text/plain": [
       "<Figure size 800x800 with 1 Axes>"
      ]
     },
     "metadata": {},
     "output_type": "display_data"
    }
   ],
   "source": [
    "fig, ax = plt.subplots(1,1,figsize=(8,8))\n",
    "sns.lineplot(ax=ax,x=df_per_year.index,y=df_per_year)\n",
    "plt.grid()"
   ]
  },
  {
   "cell_type": "code",
   "execution_count": null,
   "metadata": {
    "colab": {
     "base_uri": "https://localhost:8080/"
    },
    "executionInfo": {
     "elapsed": 218,
     "status": "ok",
     "timestamp": 1710171119347,
     "user": {
      "displayName": "Stefano R.",
      "userId": "13292509372930268929"
     },
     "user_tz": -60
    },
    "id": "eIt4NGo8JDKO",
    "outputId": "d5bf2617-7aa9-4a8f-f07f-c6a74770b3af"
   },
   "outputs": [
    {
     "name": "stdout",
     "output_type": "stream",
     "text": [
      "The minimum number of captives per year is: 2.0 on 1538.0\n",
      "The maximum number of captives per year is: 79472.0 on 1829.0\n"
     ]
    }
   ],
   "source": [
    "max_index = df_per_year.idxmax()\n",
    "min_index = df_per_year.idxmin()\n",
    "print('The minimum number of captives per year is:', df_per_year[min_index],'on',min_index)\n",
    "print('The maximum number of captives per year is:', df_per_year[max_index],'on',max_index)"
   ]
  },
  {
   "cell_type": "code",
   "execution_count": null,
   "metadata": {
    "colab": {
     "base_uri": "https://localhost:8080/",
     "height": 696
    },
    "executionInfo": {
     "elapsed": 783,
     "status": "ok",
     "timestamp": 1710171139710,
     "user": {
      "displayName": "Stefano R.",
      "userId": "13292509372930268929"
     },
     "user_tz": -60
    },
    "id": "t_ReQbozJFwM",
    "outputId": "c38fad23-deab-4ce2-fc63-7e17afb0091e"
   },
   "outputs": [
    {
     "data": {
      "image/png": "[encoded data removed]",
      "text/plain": [
       "<Figure size 800x800 with 1 Axes>"
      ]
     },
     "metadata": {},
     "output_type": "display_data"
    }
   ],
   "source": [
    "time_filter = (df_per_year.index > 1700) & (df_per_year.index < 1750)\n",
    "fig, ax = plt.subplots(1,1,figsize=(8,8))\n",
    "sns.lineplot(ax=ax,x=df_per_year.index[time_filter],y=df_per_year[time_filter])\n",
    "plt.grid()"
   ]
  }
 ],
 "metadata": {
  "colab": {
   "authorship_tag": "ABX9TyPH3jgnD2I1Pmd/hdtb1+rd",
   "provenance": []
  },
  "kernelspec": {
   "display_name": "Python 3 (ipykernel)",
   "language": "python",
   "name": "python3"
  },
  "language_info": {
   "codemirror_mode": {
    "name": "ipython",
    "version": 3
   },
   "file_extension": ".py",
   "mimetype": "text/x-python",
   "name": "python",
   "nbconvert_exporter": "python",
   "pygments_lexer": "ipython3",
   "version": "3.11.7"
  }
 },
 "nbformat": 4,
 "nbformat_minor": 4
}
