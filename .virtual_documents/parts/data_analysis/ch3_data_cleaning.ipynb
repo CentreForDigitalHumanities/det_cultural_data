


#| echo: false
from myutils.functions import question_box, list_to_html


import pandas as pd
data_file = 'data/data.csv'
df = pd.read_csv(data_file)
print(df.shape)


df.head(5)





#| echo: false
question = 'Are there any NaN values in the first column? How many are they?'
process = 'Go through all the 36151 entries of the first column and look for NaN values.'
tools = list_to_html([
    '<code>pandas</code> column selector method <code>.iloc</code>;',
    '<code>pandas</code> method <code>.is_na</code>;',
    'Python function <code>.sum()</code>;',
    'Python function <code>print()</code>.'
    ])
code = list_to_html([
    '<code>arr_year = df.iloc[:,0]</code>, we first select the first column of the DataFrame using the \
    <code>pandas</code> method <code>.iloc[]</code> and we store the selected column in the new \
    variable <code>arr_year</code> (we already used this method in the previous chapter);',
    '<code>arr_year_na = arr_year.isna()</code>, we apply the <code>pandas</code> method <code>.isna()</code>. \
    When we apply the <code>.isna()</code> method, we obtain a result with the same dimensions of the \
    object you applied it to, containing either True or False depending on if the corresponding value was \
    a NaN (or na, non arithmetic) value or not (indeed the result just answer the question: is this value na?). \
    We store the result in the variable <code>arr_year_na</code> (you are free to use a more descriptive name);',
    '<code>print(arr_year_na.sum())</code>, in Python a True is equivalent to 1 and Fale to 0. This means that \
    if we have an array (a list or sequence of values) containing True and False, if we sum all the values, \
    we would obtain the number of True values (as they count as 1 and everything else counts as 0). These \
    True values correspond to the caseswhen  the method <code>.isna()</code> found a NaN, so that summing \
    all these values means, as a matter of fact, counting how many NaNs have been found.'
    ])
wiz_code = '<code>print(df.iloc[:,0].isna())</code>, we can apply methods and function one after another, \
using less coding lines and saving space in our computer memory'
question_box(question=question,process=process,tools=tools,code=code,wiz=wiz_code)


arr_year = df.iloc[:,0]
arr_year_na = arr_year.isna()
print(arr_year_na)
print('Total number of NaNs in the first column:',arr_year_na.sum())


solution = 'The first column contains 1 NaN value'
question_box(solution=solution)





#| echo: false
question = "Where is the NaN value located?"
process = 'Go through all the 36151 entries of the first column and look for the NaN value.'
tools = list_to_html([
    'Python masking.'
    ])
code = list_to_html([
    '<code>df[arr_year_na]</code>, here we will use one of the most useful features when working with \
    DataFrames: masking. From our previous coding, arr_year_na is an object with the same shape and \
    features of the first column, but instead of containing years, it contains True and False values, \
    where True correspond to the NaN value found applying the method <code>.isna()</code>. If we consider \
    our DataFrame <code>df</code>, we can use this object to select data from it. What are we going to \
    select? Well, <code>arr_year_na</code> has a name, and that is the name of the first column, so we \
    will select that. We will also select only the rows where <code>arr_year_na</code> is True.'
])
question_box(task=task,process=process,tools=tools,code=code)


df[arr_year_na]


solution = 'The row containing a NaN in the first column ("Year of arrival at port of disembarkation") has index 32248 \
it misses information about its itinerary (only the starting port is present) and number of captives, \
and its ID is 91909'
question_box(solution=solution)


At this point we know enough general information to start diving deep in the analysis of our DataFrame, we are ready to interrogate this dataset and see which kind of story it is going to tell us.
