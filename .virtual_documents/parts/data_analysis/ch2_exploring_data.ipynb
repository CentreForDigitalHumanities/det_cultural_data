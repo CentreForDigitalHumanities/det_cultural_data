


#| echo: false
from myutils.functions import question_box, list_to_html


import pandas as pd
data_file = 'data/data.csv'
df = pd.read_csv(data_file)


df.head(5)





#| echo: false
question = 'Question: How big is the data?'
process = 'Counting the number of rows and columns and checking its size on the disk.'
tools = 'Python attribute <code>shape</code>'
code = '<code>df.shape</code>, the attribute <code>.shape</code> containes the size of the dataframe expressed in rows and columns. \
    When printed on the screen it will display two numbers, the first one being the number of rows and the second being the number of columns.'
question_box(question=question,process=process,tools=tools,code=code)


df.shape








#| echo: false
task = 'Display column names with an index'
process = 'Identify column names and attributing them an index (starting from zero) depending on their order in the DataFrame \
(the first column index will be 0, the second 1, and so on).'
tools = list_to_html([
    '<code>pandas</code> attribute <code>.columns</code>;',
    'Python <code>for</code> loop;',
    'Python function <code>print()</code>.'
])
code_block = '<pre  style="display: inline-block; float: left; margin-right: 10px">i=0 \n\
print("Index ) Column name") \n\
for name in column_names: \n\
    print(i,")",name) \n\
    i = i + 1 \
</pre>'
code = list_to_html([
    '<code>column_names = df.columns</code>, the DataFrame attributes <code>.columns</code> containes the column names of our \
    DataFrame. We store these names into the variable <code>column_names</code>;',
    '<code>print(column_names)</code>, we use the function <code>print()</code> to print on the screen the content of the \
    variable <code>column_names</code>;',
    code_block + ', we first initialise (assign a value) to the Python variable <code>i</code>, this will correspond to the first index. \
    We then print the string "Index) Column name" as a description for what we are going to print later. We finally use a \
    <code>for</code> loop to scroll the values contained in <code>column_names</code>. What the <code>for</code> loop does \
    is reading one by one the values stored in <code>column_names</code> and assigning them, one at the time, to the \
    variable <code>name</code>. It then performs all the instructions "inside" the loop (indented text) and it starts \
    all over again with the next value in <code>column_names</code> until all the values are explored. In our case, inside \
    the loop we perform just two operations: 1) we both print the current value of the variables <code>i</code> and \
    <code>name</code> and 2) we increase the value of <code>i</code> by 1. Why do we increase <code>i</code>? Because we \
    want to display the different column names according to their position in the DataFrame. Our loop automatically updates \
    the value of the variable <code>name</code>, but it does not increase by one step the index <code>i</code>, so we have \
    to do it explicitly.' 
])
code_block2 = '<pre  style="display: inline-block; margin: 10px 10px; float: left; width: 40%">\n\
print("Index) Column name") \n\
for i,name in enumerate(column_names): \n\
    print(f"{i}) {name}") \
</pre>' + ', you can substitute the previous block of code with this, it performs the same tasks (printing indices and \
column names) with less lines of code'
question_box(task=task,process=process,tools=tools,code=code,wiz=code_block2)


column_names = df.columns
print(column_names)
i=0 
print("Index ) Column name") 
for name in column_names: 
    print(i,")",name) 
    i = i + 1 





print("Index) Column name") 
for i,name in enumerate(column_names): 
    print(f"{i}) {name}") 





#| echo: false
question = 'Are the values of the Voyage ID column unique?'
process = 'Select the column Voyage ID, go through all its 36151 values and check if there are repetitions.'
tools = list_to_html([
    '<code>pandas</code> column selector method <code>.iloc</code>;',
    '<code>pandas</code> attribute <code>.is_unique</code>;',
    'Python function <code>print()</code>'
    ])
code = list_to_html([
    '<code>voyage_id = df.iloc[:,1]</code>, we apply the method <code>.iloc[]</code> to select the second column \
    of our DataFrame and store it in the variable <code>voyage_id</code>. Inside the square brackets of <code>.iloc[]</code> \
    we can specify rows an columns to select in the form [<selected_rows>,<selected_columns>]. In this case, \
    <code>:</code> means that we select ALL the rows, so <code>df.iloc[:,1]</code> selects all the rows of the column \
    with index 1 (second column)',
    '<code>print(voyage_id.is_unique)</code>, we print on the screen the <code>pandas</code> attribute <code>.is_unique</code>. \
    This attribute is True if, indeed, all the values of <code>voyage_id</code> is unique, False otherwise.'
])
wiz_code = list_to_html([
    '<code>print(df.iloc[:,1].is_unique)</code>, methods, attributes, and functions can be applied one after another in single line.'
])
question_box(question=question,process=process,tools=tools,code=code,wiz=wiz_code)


voyage_id = df.iloc[:,1]
print(voyage_id.is_unique)






