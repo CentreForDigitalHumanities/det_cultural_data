


from myutils.functions import question_box, list_to_html





task = 'Task: Loading data'
process = list_to_html([
    'Localise the csv file;',
    'Have a look at it;',
    'Transfering data to the Python working environment.'
    ])
tools = list_to_html([
    'Python <code>pandas</code> library;',
    '<pandas> DataFrame to contain the data;',
    '<code>.read_csv()</code> method.',
    ])
code = list_to_html([
    "<code>import pandas as pd</code>, we first import the package <code>pandas</code> in our working environment in order to use all its functionalities. \
    In order to tell Python we want to use <code>pandas</code> functionalities we need to specify <code>pandas</code> every time we use one of \
    its functions. To make our life easier, we assign to the package an alias, a nickname, so that we do not neet to write <code>pandas</code> \
    all the times, but just the abbreviation <code>pd</code>;",
    "<code>data_file = 'data/data.csv'</code>, we store the relative path of our data file as a string (between single quotes) to a Python variable called <code>data_file</code>;",
    "<code>df = pd.read_csv(data_file)</code>, we use the <code>pandas</code> method <code>.read_csv()</code> to read our data file and we store the result on a Python variable called <code>df</code> (data frame);",
    "<code>print(type(df))</code>, we first apply the Python function <code>type()</code> to the just initialised variable df to check what is its type. We print the result on the screen using the Python function <code>print()</code>."
    ])
question_box(task=task,tools=tools,process=process,code=code)





import pandas as pd
data_file = 'data/data.csv'
df = pd.read_csv(data_file)
print(type(df))





task = 'Task: Have a first look at the data'
process = 'Visualize the first 10 lines of data, just to check that everything looks "ok"'
tools = '<code>.head()</code> method'
code = '<code>pd.head(10)</code>, calling the <code>head(10)</code> method on the DataFrame df we will visualise the first 10 lines of the DataFrame (we wrote 10, but you can use whatever number you want). \
This method, as a matter of fact, shows you only the "head", the beginning, of your data.'
question_box(task=task,tools=tools,process=process,code=code)


df.head(10)



