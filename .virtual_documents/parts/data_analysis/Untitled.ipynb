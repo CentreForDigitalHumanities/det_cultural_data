ch3_data_clearning.ipynb


At this point we know enough general information to start diving deep in the analysis of our DataFrame, we are ready to interrogate this dataset and see which kind of story it is going to tell us.
